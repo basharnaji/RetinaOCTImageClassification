{
 "cells": [
  {
   "cell_type": "code",
   "execution_count": 1,
   "id": "afb2bf36",
   "metadata": {
    "_cell_guid": "b1076dfc-b9ad-4769-8c92-a6c4dae69d19",
    "_uuid": "8f2839f25d086af736a60e9eeb907d3b93b6e0e5",
    "execution": {
     "iopub.execute_input": "2021-08-13T15:05:15.287891Z",
     "iopub.status.busy": "2021-08-13T15:05:15.287312Z",
     "iopub.status.idle": "2021-08-13T15:05:15.291577Z",
     "shell.execute_reply": "2021-08-13T15:05:15.291048Z",
     "shell.execute_reply.started": "2021-08-13T12:35:45.908268Z"
    },
    "papermill": {
     "duration": 0.031651,
     "end_time": "2021-08-13T15:05:15.291699",
     "exception": false,
     "start_time": "2021-08-13T15:05:15.260048",
     "status": "completed"
    },
    "tags": []
   },
   "outputs": [],
   "source": [
    "# This Python 3 environment comes with many helpful analytics libraries installed\n",
    "# It is defined by the kaggle/python Docker image: https://github.com/kaggle/docker-python\n",
    "# For example, here's several helpful packages to load\n",
    "\n",
    "import numpy as np # linear algebra\n",
    "import pandas as pd # data processing, CSV file I/O (e.g. pd.read_csv)\n",
    "\n",
    "# Input data files are available in the read-only \"../input/\" directory\n",
    "# For example, running this (by clicking run or pressing Shift+Enter) will list all files under the input directory\n",
    "\n",
    "import os\n",
    "#for dirname, _, filenames in os.walk('/kaggle/input'):\n",
    "# for filename in filenames:\n",
    "#       print(os.path.join(dirname, filename))\n",
    "\n",
    "# You can write up to 20GB to the current directory (/kaggle/working/) that gets preserved as output when you create a version using \"Save & Run All\" \n",
    "# You can also write temporary files to /kaggle/temp/, but they won't be saved outside of the current session"
   ]
  },
  {
   "cell_type": "code",
   "execution_count": 2,
   "id": "3166c470",
   "metadata": {
    "execution": {
     "iopub.execute_input": "2021-08-13T15:05:15.326947Z",
     "iopub.status.busy": "2021-08-13T15:05:15.326396Z",
     "iopub.status.idle": "2021-08-13T15:05:15.330159Z",
     "shell.execute_reply": "2021-08-13T15:05:15.329702Z",
     "shell.execute_reply.started": "2021-08-13T12:37:39.992492Z"
    },
    "papermill": {
     "duration": 0.022823,
     "end_time": "2021-08-13T15:05:15.330264",
     "exception": false,
     "start_time": "2021-08-13T15:05:15.307441",
     "status": "completed"
    },
    "tags": []
   },
   "outputs": [],
   "source": [
    "image_path = '/kaggle/input/kermany2018/oct2017/OCT2017 '\n",
    "oct_csv_path = '/kaggle/input/oct-csv/'\n",
    "train_dir = image_path + \"/train/\"\n",
    "valid_dir = image_path + \"/val/\"\n",
    "test_dir = image_path + \"/test/\""
   ]
  },
  {
   "cell_type": "code",
   "execution_count": 3,
   "id": "06d46ebe",
   "metadata": {
    "execution": {
     "iopub.execute_input": "2021-08-13T15:05:15.367154Z",
     "iopub.status.busy": "2021-08-13T15:05:15.365931Z",
     "iopub.status.idle": "2021-08-13T15:05:15.368229Z",
     "shell.execute_reply": "2021-08-13T15:05:15.368657Z",
     "shell.execute_reply.started": "2021-08-13T12:38:03.367266Z"
    },
    "papermill": {
     "duration": 0.022813,
     "end_time": "2021-08-13T15:05:15.368788",
     "exception": false,
     "start_time": "2021-08-13T15:05:15.345975",
     "status": "completed"
    },
    "tags": []
   },
   "outputs": [],
   "source": [
    "classes = ['CNV', 'DME', 'DRUSEN', 'NORMAL']\n",
    "cols = [x.upper() for x in classes]\n",
    "dirs = [train_dir, valid_dir, test_dir]\n",
    "label = {0: 'CNV', 1: 'DME', 2: 'DRUSEN', 3: 'NORMAL'}\n",
    "IMG_SIZE = 224\n",
    "\n",
    "# if we should read the directory structre, if False then use the CSV files already saved\n",
    "# Once you generate the csv files you should probably download them and re-upload into kaggle and set this to FALSE\n",
    "REGEN = False"
   ]
  },
  {
   "cell_type": "code",
   "execution_count": 4,
   "id": "30ccb564",
   "metadata": {
    "execution": {
     "iopub.execute_input": "2021-08-13T15:05:15.407162Z",
     "iopub.status.busy": "2021-08-13T15:05:15.406490Z",
     "iopub.status.idle": "2021-08-13T15:05:15.409970Z",
     "shell.execute_reply": "2021-08-13T15:05:15.409503Z",
     "shell.execute_reply.started": "2021-08-13T12:38:08.545122Z"
    },
    "papermill": {
     "duration": 0.025485,
     "end_time": "2021-08-13T15:05:15.410089",
     "exception": false,
     "start_time": "2021-08-13T15:05:15.384604",
     "status": "completed"
    },
    "tags": []
   },
   "outputs": [],
   "source": [
    "def create_df (path, classes=classes):\n",
    "  df = pd.DataFrame(columns=['FILENAME', 'CNV', 'DME', 'DRUSEN', 'NORMAL'])\n",
    "  for sub_dir in classes:\n",
    "    condition = {'NORMAL': 0, 'CNV': 0, 'DME':0, 'DRUSEN': 0}\n",
    "    files = os.listdir(path + sub_dir)\n",
    "    if (sub_dir== 'NORMAL'):\n",
    "      condition['NORMAL'] = 1\n",
    "    elif (sub_dir == 'CNV'):\n",
    "      condition['CNV'] = 1\n",
    "    elif (sub_dir == 'DME'):\n",
    "      condition['DME'] = 1\n",
    "    else:\n",
    "      condition['DRUSEN']= 1\n",
    "    for f in files:\n",
    "      df = df.append({'FILENAME': path +  sub_dir  + \"/\" + f, \n",
    "                      'NORMAL': condition['NORMAL'], \n",
    "                      'CNV': condition['CNV'],\n",
    "                      'DME': condition['DME'],\n",
    "                      'DRUSEN': condition['DRUSEN']}, ignore_index=True)\n",
    "  return df"
   ]
  },
  {
   "cell_type": "code",
   "execution_count": 5,
   "id": "bd6e47f4",
   "metadata": {
    "execution": {
     "iopub.execute_input": "2021-08-13T15:05:15.446695Z",
     "iopub.status.busy": "2021-08-13T15:05:15.446205Z",
     "iopub.status.idle": "2021-08-13T15:05:15.751525Z",
     "shell.execute_reply": "2021-08-13T15:05:15.750372Z",
     "shell.execute_reply.started": "2021-08-13T12:38:14.573893Z"
    },
    "papermill": {
     "duration": 0.325877,
     "end_time": "2021-08-13T15:05:15.751676",
     "exception": false,
     "start_time": "2021-08-13T15:05:15.425799",
     "status": "completed"
    },
    "tags": []
   },
   "outputs": [],
   "source": [
    "# Generting the DataFrames of the filenames\n",
    "# this is primarily used so we can sub-sample files easier for the different training strategies\n",
    "if (REGEN):\n",
    "  train_df = create_df(train_dir)\n",
    "  valid_df = create_df(valid_dir)\n",
    "  test_df = create_df(test_dir)\n",
    "  train_df.to_csv(\"train_data.csv\")\n",
    "  valid_df.to_csv(\"valid_data.csv\")\n",
    "  test_df.to_csv(\"test_data.csv\")\n",
    "else:\n",
    "  train_df = pd.read_csv(oct_csv_path + \"train_data.csv\")\n",
    "  valid_df = pd.read_csv(oct_csv_path + \"valid_data.csv\")\n",
    "  test_df = pd.read_csv(oct_csv_path + \"test_data.csv\")"
   ]
  },
  {
   "cell_type": "code",
   "execution_count": 6,
   "id": "e4556a7c",
   "metadata": {
    "execution": {
     "iopub.execute_input": "2021-08-13T15:05:15.789004Z",
     "iopub.status.busy": "2021-08-13T15:05:15.788206Z",
     "iopub.status.idle": "2021-08-13T15:05:15.792851Z",
     "shell.execute_reply": "2021-08-13T15:05:15.792135Z",
     "shell.execute_reply.started": "2021-08-13T12:38:36.721432Z"
    },
    "papermill": {
     "duration": 0.025019,
     "end_time": "2021-08-13T15:05:15.792999",
     "exception": false,
     "start_time": "2021-08-13T15:05:15.767980",
     "status": "completed"
    },
    "tags": []
   },
   "outputs": [
    {
     "name": "stdout",
     "output_type": "stream",
     "text": [
      "Training Data:  (83484, 5)\n",
      "Validation Data:  (36, 5)\n",
      "Test Data:  (972, 5)\n"
     ]
    }
   ],
   "source": [
    "print (\"Training Data: \", train_df.shape)\n",
    "print (\"Validation Data: \", valid_df.shape)\n",
    "print (\"Test Data: \", test_df.shape)"
   ]
  },
  {
   "cell_type": "code",
   "execution_count": 7,
   "id": "94d2b859",
   "metadata": {
    "execution": {
     "iopub.execute_input": "2021-08-13T15:05:15.837635Z",
     "iopub.status.busy": "2021-08-13T15:05:15.837142Z",
     "iopub.status.idle": "2021-08-13T15:05:15.852908Z",
     "shell.execute_reply": "2021-08-13T15:05:15.852449Z",
     "shell.execute_reply.started": "2021-08-13T12:39:04.193370Z"
    },
    "papermill": {
     "duration": 0.042733,
     "end_time": "2021-08-13T15:05:15.853022",
     "exception": false,
     "start_time": "2021-08-13T15:05:15.810289",
     "status": "completed"
    },
    "tags": []
   },
   "outputs": [
    {
     "data": {
      "text/html": [
       "<div>\n",
       "<style scoped>\n",
       "    .dataframe tbody tr th:only-of-type {\n",
       "        vertical-align: middle;\n",
       "    }\n",
       "\n",
       "    .dataframe tbody tr th {\n",
       "        vertical-align: top;\n",
       "    }\n",
       "\n",
       "    .dataframe thead th {\n",
       "        text-align: right;\n",
       "    }\n",
       "</style>\n",
       "<table border=\"1\" class=\"dataframe\">\n",
       "  <thead>\n",
       "    <tr style=\"text-align: right;\">\n",
       "      <th></th>\n",
       "      <th>FILENAME</th>\n",
       "      <th>CNV</th>\n",
       "      <th>DME</th>\n",
       "      <th>DRUSEN</th>\n",
       "      <th>NORMAL</th>\n",
       "    </tr>\n",
       "  </thead>\n",
       "  <tbody>\n",
       "    <tr>\n",
       "      <th>0</th>\n",
       "      <td>/kaggle/input/kermany2018/oct2017/OCT2017 /tra...</td>\n",
       "      <td>1</td>\n",
       "      <td>0</td>\n",
       "      <td>0</td>\n",
       "      <td>0</td>\n",
       "    </tr>\n",
       "    <tr>\n",
       "      <th>1</th>\n",
       "      <td>/kaggle/input/kermany2018/oct2017/OCT2017 /tra...</td>\n",
       "      <td>1</td>\n",
       "      <td>0</td>\n",
       "      <td>0</td>\n",
       "      <td>0</td>\n",
       "    </tr>\n",
       "    <tr>\n",
       "      <th>2</th>\n",
       "      <td>/kaggle/input/kermany2018/oct2017/OCT2017 /tra...</td>\n",
       "      <td>1</td>\n",
       "      <td>0</td>\n",
       "      <td>0</td>\n",
       "      <td>0</td>\n",
       "    </tr>\n",
       "    <tr>\n",
       "      <th>3</th>\n",
       "      <td>/kaggle/input/kermany2018/oct2017/OCT2017 /tra...</td>\n",
       "      <td>1</td>\n",
       "      <td>0</td>\n",
       "      <td>0</td>\n",
       "      <td>0</td>\n",
       "    </tr>\n",
       "    <tr>\n",
       "      <th>4</th>\n",
       "      <td>/kaggle/input/kermany2018/oct2017/OCT2017 /tra...</td>\n",
       "      <td>1</td>\n",
       "      <td>0</td>\n",
       "      <td>0</td>\n",
       "      <td>0</td>\n",
       "    </tr>\n",
       "  </tbody>\n",
       "</table>\n",
       "</div>"
      ],
      "text/plain": [
       "                                            FILENAME  CNV  DME  DRUSEN  NORMAL\n",
       "0  /kaggle/input/kermany2018/oct2017/OCT2017 /tra...    1    0       0       0\n",
       "1  /kaggle/input/kermany2018/oct2017/OCT2017 /tra...    1    0       0       0\n",
       "2  /kaggle/input/kermany2018/oct2017/OCT2017 /tra...    1    0       0       0\n",
       "3  /kaggle/input/kermany2018/oct2017/OCT2017 /tra...    1    0       0       0\n",
       "4  /kaggle/input/kermany2018/oct2017/OCT2017 /tra...    1    0       0       0"
      ]
     },
     "execution_count": 7,
     "metadata": {},
     "output_type": "execute_result"
    }
   ],
   "source": [
    "train_df.head()"
   ]
  },
  {
   "cell_type": "code",
   "execution_count": 8,
   "id": "29d310c3",
   "metadata": {
    "execution": {
     "iopub.execute_input": "2021-08-13T15:05:15.893388Z",
     "iopub.status.busy": "2021-08-13T15:05:15.892120Z",
     "iopub.status.idle": "2021-08-13T15:05:15.898514Z",
     "shell.execute_reply": "2021-08-13T15:05:15.898070Z",
     "shell.execute_reply.started": "2021-08-13T12:39:45.407197Z"
    },
    "papermill": {
     "duration": 0.029013,
     "end_time": "2021-08-13T15:05:15.898625",
     "exception": false,
     "start_time": "2021-08-13T15:05:15.869612",
     "status": "completed"
    },
    "tags": []
   },
   "outputs": [
    {
     "name": "stdout",
     "output_type": "stream",
     "text": [
      "Trainig Data percentages:\n",
      " 1% ==>  834\n",
      " 5% ==>  4174\n",
      "10% ==>  8348\n",
      "25% ==>  20871\n",
      "50% ==>  41742\n",
      "75% ==>  62613\n",
      "90% ==>  75135\n",
      "98% ==>  81814\n"
     ]
    }
   ],
   "source": [
    "# Printing out the # of samples for each subsample percentage \n",
    "print (\"Trainig Data percentages:\")\n",
    "print (\" 1% ==> \", int(.01 * train_df.shape[0]))\n",
    "print (\" 5% ==> \", int(.05 * train_df.shape[0]))\n",
    "print (\"10% ==> \", int(.1  * train_df.shape[0]))\n",
    "print (\"25% ==> \", int(.25 * train_df.shape[0]))\n",
    "print (\"50% ==> \", int(.5  * train_df.shape[0]))\n",
    "print (\"75% ==> \", int(.75 * train_df.shape[0]))\n",
    "print (\"90% ==> \", int(.9  * train_df.shape[0]))\n",
    "print (\"98% ==> \", int(.98 * train_df.shape[0]))"
   ]
  },
  {
   "cell_type": "code",
   "execution_count": 9,
   "id": "11b196bc",
   "metadata": {
    "execution": {
     "iopub.execute_input": "2021-08-13T15:05:15.938184Z",
     "iopub.status.busy": "2021-08-13T15:05:15.937648Z",
     "iopub.status.idle": "2021-08-13T15:05:15.954067Z",
     "shell.execute_reply": "2021-08-13T15:05:15.953340Z",
     "shell.execute_reply.started": "2021-08-13T12:46:07.204617Z"
    },
    "papermill": {
     "duration": 0.038553,
     "end_time": "2021-08-13T15:05:15.954181",
     "exception": false,
     "start_time": "2021-08-13T15:05:15.915628",
     "status": "completed"
    },
    "tags": []
   },
   "outputs": [
    {
     "data": {
      "text/plain": [
       "(83484, 5)"
      ]
     },
     "execution_count": 9,
     "metadata": {},
     "output_type": "execute_result"
    }
   ],
   "source": [
    "# Sampling 100% of the data\n",
    "sample = train_df.sample(frac=1.0, random_state=10, axis=0)\n",
    "sample.shape"
   ]
  },
  {
   "cell_type": "code",
   "execution_count": 10,
   "id": "505554bd",
   "metadata": {
    "execution": {
     "iopub.execute_input": "2021-08-13T15:05:15.993793Z",
     "iopub.status.busy": "2021-08-13T15:05:15.993269Z",
     "iopub.status.idle": "2021-08-13T15:05:15.996850Z",
     "shell.execute_reply": "2021-08-13T15:05:15.996444Z",
     "shell.execute_reply.started": "2021-08-13T12:40:22.496380Z"
    },
    "papermill": {
     "duration": 0.025772,
     "end_time": "2021-08-13T15:05:15.996953",
     "exception": false,
     "start_time": "2021-08-13T15:05:15.971181",
     "status": "completed"
    },
    "tags": []
   },
   "outputs": [],
   "source": [
    "# determine class weights to feed into neural network during training\n",
    "def get_classweight(df):\n",
    "  total = df.shape[0]\n",
    "  num_norm = df['NORMAL'].sum()\n",
    "  num_cnv = df['CNV'].sum()\n",
    "  num_dme = df['DME'].sum()\n",
    "  num_drusen = df['DRUSEN'].sum()\n",
    "  norm_weight = (1/num_norm) * (total/4)\n",
    "  cnv_weight = (1/num_cnv) * (total/4)\n",
    "  dme_weight = (1/num_dme) * (total/4)\n",
    "  drusen_weight = (1/num_drusen) * (total/4)\n",
    "  class_weight = {0 : cnv_weight, 1: dme_weight,\n",
    "                  2 : drusen_weight, 3: norm_weight}\n",
    "  return class_weight"
   ]
  },
  {
   "cell_type": "code",
   "execution_count": 11,
   "id": "cebef892",
   "metadata": {
    "execution": {
     "iopub.execute_input": "2021-08-13T15:05:16.036309Z",
     "iopub.status.busy": "2021-08-13T15:05:16.035517Z",
     "iopub.status.idle": "2021-08-13T15:05:16.040939Z",
     "shell.execute_reply": "2021-08-13T15:05:16.040530Z",
     "shell.execute_reply.started": "2021-08-13T12:49:54.474787Z"
    },
    "papermill": {
     "duration": 0.027097,
     "end_time": "2021-08-13T15:05:16.041043",
     "exception": false,
     "start_time": "2021-08-13T15:05:16.013946",
     "status": "completed"
    },
    "tags": []
   },
   "outputs": [
    {
     "data": {
      "text/plain": [
       "{0: 0.5609729875016799,\n",
       " 1: 1.839178709904829,\n",
       " 2: 2.4223537604456826,\n",
       " 3: 0.7931217936538096}"
      ]
     },
     "execution_count": 11,
     "metadata": {},
     "output_type": "execute_result"
    }
   ],
   "source": [
    "class_weight = get_classweight(sample)\n",
    "class_weight"
   ]
  },
  {
   "cell_type": "code",
   "execution_count": 12,
   "id": "fedbf82c",
   "metadata": {
    "execution": {
     "iopub.execute_input": "2021-08-13T15:05:16.080576Z",
     "iopub.status.busy": "2021-08-13T15:05:16.080068Z",
     "iopub.status.idle": "2021-08-13T15:05:20.719026Z",
     "shell.execute_reply": "2021-08-13T15:05:20.718501Z",
     "shell.execute_reply.started": "2021-08-13T12:40:38.338761Z"
    },
    "papermill": {
     "duration": 4.660304,
     "end_time": "2021-08-13T15:05:20.719160",
     "exception": false,
     "start_time": "2021-08-13T15:05:16.058856",
     "status": "completed"
    },
    "tags": []
   },
   "outputs": [],
   "source": [
    "import tensorflow as tf\n",
    "from tensorflow import keras\n",
    "import tensorflow_addons as tfa\n",
    "import tensorflow.keras.applications as app\n",
    "from tensorflow.keras.preprocessing.image import ImageDataGenerator"
   ]
  },
  {
   "cell_type": "code",
   "execution_count": 13,
   "id": "29fd0af2",
   "metadata": {
    "execution": {
     "iopub.execute_input": "2021-08-13T15:05:20.761341Z",
     "iopub.status.busy": "2021-08-13T15:05:20.760391Z",
     "iopub.status.idle": "2021-08-13T15:07:46.162777Z",
     "shell.execute_reply": "2021-08-13T15:07:46.163214Z",
     "shell.execute_reply.started": "2021-08-13T12:42:00.885528Z"
    },
    "papermill": {
     "duration": 145.426616,
     "end_time": "2021-08-13T15:07:46.163372",
     "exception": false,
     "start_time": "2021-08-13T15:05:20.736756",
     "status": "completed"
    },
    "tags": []
   },
   "outputs": [
    {
     "name": "stdout",
     "output_type": "stream",
     "text": [
      "Found 75136 validated image filenames.\n",
      "Found 8348 validated image filenames.\n"
     ]
    }
   ],
   "source": [
    "train_image_datagen = ImageDataGenerator(rotation_range=90, width_shift_range=[-.1,.1], height_shift_range=[-.1,.1],\n",
    "                                         shear_range=0.25, zoom_range=0.3, horizontal_flip=True,\n",
    "                                         vertical_flip=True, rescale = 1./255., validation_split=0.1)\n",
    "\n",
    "# Setting the imgages to come from the dataframe where we specify the filenames and columns to use for \"labels\"\n",
    "train_imgs = train_image_datagen.flow_from_dataframe(sample, directory=None, x_col='FILENAME', y_col=cols, subset=\"training\",\n",
    "                                        class_mode=\"raw\", target_size=(IMG_SIZE,IMG_SIZE), batch_size=32, seed=10)\n",
    "valid_imgs = train_image_datagen.flow_from_dataframe(sample, directory=None, x_col='FILENAME', y_col=cols, subset=\"validation\",\n",
    "                                        class_mode=\"raw\", target_size=(IMG_SIZE,IMG_SIZE), batch_size=32, seed=10)"
   ]
  },
  {
   "cell_type": "code",
   "execution_count": 14,
   "id": "ffcd6fc2",
   "metadata": {
    "execution": {
     "iopub.execute_input": "2021-08-13T15:07:46.205338Z",
     "iopub.status.busy": "2021-08-13T15:07:46.204841Z",
     "iopub.status.idle": "2021-08-13T15:07:50.023304Z",
     "shell.execute_reply": "2021-08-13T15:07:50.023678Z",
     "shell.execute_reply.started": "2021-08-13T12:46:49.480082Z"
    },
    "papermill": {
     "duration": 3.841926,
     "end_time": "2021-08-13T15:07:50.023864",
     "exception": false,
     "start_time": "2021-08-13T15:07:46.181938",
     "status": "completed"
    },
    "tags": []
   },
   "outputs": [
    {
     "name": "stdout",
     "output_type": "stream",
     "text": [
      "Downloading data from https://storage.googleapis.com/tensorflow/keras-applications/xception/xception_weights_tf_dim_ordering_tf_kernels_notop.h5\n",
      "83689472/83683744 [==============================] - 0s 0us/step\n",
      "Model: \"model\"\n",
      "_________________________________________________________________\n",
      "Layer (type)                 Output Shape              Param #   \n",
      "=================================================================\n",
      "input_1 (InputLayer)         [(None, 224, 224, 3)]     0         \n",
      "_________________________________________________________________\n",
      "xception (Functional)        (None, 7, 7, 2048)        20861480  \n",
      "_________________________________________________________________\n",
      "global_average_pooling2d (Gl (None, 2048)              0         \n",
      "_________________________________________________________________\n",
      "dense (Dense)                (None, 4)                 8196      \n",
      "=================================================================\n",
      "Total params: 20,869,676\n",
      "Trainable params: 8,196\n",
      "Non-trainable params: 20,861,480\n",
      "_________________________________________________________________\n"
     ]
    }
   ],
   "source": [
    "# Creating the model based on Xception Network\n",
    "input_layer = keras.Input(shape=(IMG_SIZE, IMG_SIZE, 3))\n",
    "base_model = app.xception.Xception(include_top=False, weights=\"imagenet\", input_shape=(IMG_SIZE,IMG_SIZE,3))\n",
    "base_model.trainable = False\n",
    "\n",
    "x = base_model(input_layer, training=False)\n",
    "x = keras.layers.GlobalAveragePooling2D()(x)\n",
    "output = keras.layers.Dense(4, activation=\"softmax\")(x)\n",
    "\n",
    "model = keras.Model(inputs=input_layer, outputs=output)\n",
    "model.summary()"
   ]
  },
  {
   "cell_type": "code",
   "execution_count": 15,
   "id": "43fb1b4b",
   "metadata": {
    "execution": {
     "iopub.execute_input": "2021-08-13T15:07:50.074656Z",
     "iopub.status.busy": "2021-08-13T15:07:50.073859Z",
     "iopub.status.idle": "2021-08-13T15:07:50.246968Z",
     "shell.execute_reply": "2021-08-13T15:07:50.246490Z",
     "shell.execute_reply.started": "2021-08-13T12:48:48.212101Z"
    },
    "papermill": {
     "duration": 0.201857,
     "end_time": "2021-08-13T15:07:50.247094",
     "exception": false,
     "start_time": "2021-08-13T15:07:50.045237",
     "status": "completed"
    },
    "tags": []
   },
   "outputs": [],
   "source": [
    "# This code did not work, it caused I/O Error 5:\n",
    "# model.compile(optimizer=keras.optimizers.Adam(learning_rate=1e-3), loss='categorical_crossentropy', metrics='accuracy')\n",
    "model.compile(optimizer=keras.optimizers.Adam(), loss='categorical_crossentropy', metrics=[tfa.metrics.F1Score(4,\"micro\"), 'accuracy'])"
   ]
  },
  {
   "cell_type": "code",
   "execution_count": 16,
   "id": "860d4058",
   "metadata": {
    "execution": {
     "iopub.execute_input": "2021-08-13T15:07:50.293658Z",
     "iopub.status.busy": "2021-08-13T15:07:50.293164Z",
     "iopub.status.idle": "2021-08-13T15:07:50.297068Z",
     "shell.execute_reply": "2021-08-13T15:07:50.296618Z",
     "shell.execute_reply.started": "2021-08-13T12:49:23.401283Z"
    },
    "papermill": {
     "duration": 0.02891,
     "end_time": "2021-08-13T15:07:50.297181",
     "exception": false,
     "start_time": "2021-08-13T15:07:50.268271",
     "status": "completed"
    },
    "tags": []
   },
   "outputs": [],
   "source": [
    "# Creating a checkpoint to save the best model so that we can reload it once training is complete\n",
    "checkpoint_cb = keras.callbacks.ModelCheckpoint(\"oct_xception100per.h5\", save_best_only=True)\n",
    "# Adding an an early stop callback to avoid overfitting in case the model is not improving after 5 consescutive epochs\n",
    "earlystop_cb = keras.callbacks.EarlyStopping(patience=5, restore_best_weights=True)"
   ]
  },
  {
   "cell_type": "code",
   "execution_count": 17,
   "id": "f7ab2eba",
   "metadata": {
    "execution": {
     "iopub.execute_input": "2021-08-13T15:07:50.347866Z",
     "iopub.status.busy": "2021-08-13T15:07:50.347201Z",
     "iopub.status.idle": "2021-08-13T18:08:07.047742Z",
     "shell.execute_reply": "2021-08-13T18:08:07.048487Z",
     "shell.execute_reply.started": "2021-08-13T12:50:01.280952Z"
    },
    "papermill": {
     "duration": 10816.728626,
     "end_time": "2021-08-13T18:08:07.048700",
     "exception": false,
     "start_time": "2021-08-13T15:07:50.320074",
     "status": "completed"
    },
    "tags": []
   },
   "outputs": [
    {
     "name": "stdout",
     "output_type": "stream",
     "text": [
      "Epoch 1/100\n",
      "1000/1000 [==============================] - 791s 782ms/step - loss: 1.0566 - f1_score: 0.5899 - accuracy: 0.5899 - val_loss: 0.8353 - val_f1_score: 0.6618 - val_accuracy: 0.6618\n",
      "Epoch 2/100\n",
      "1000/1000 [==============================] - 677s 677ms/step - loss: 0.8724 - f1_score: 0.6866 - accuracy: 0.6866 - val_loss: 0.7786 - val_f1_score: 0.6890 - val_accuracy: 0.6890\n",
      "Epoch 3/100\n",
      "1000/1000 [==============================] - 673s 673ms/step - loss: 0.8176 - f1_score: 0.7077 - accuracy: 0.7077 - val_loss: 0.7579 - val_f1_score: 0.7033 - val_accuracy: 0.7033\n",
      "Epoch 4/100\n",
      "1000/1000 [==============================] - 629s 628ms/step - loss: 0.7928 - f1_score: 0.7162 - accuracy: 0.7162 - val_loss: 0.7773 - val_f1_score: 0.6926 - val_accuracy: 0.6926\n",
      "Epoch 5/100\n",
      "1000/1000 [==============================] - 618s 617ms/step - loss: 0.7792 - f1_score: 0.7234 - accuracy: 0.7234 - val_loss: 0.7252 - val_f1_score: 0.7138 - val_accuracy: 0.7138\n",
      "Epoch 6/100\n",
      "1000/1000 [==============================] - 622s 622ms/step - loss: 0.7830 - f1_score: 0.7225 - accuracy: 0.7225 - val_loss: 0.7878 - val_f1_score: 0.6753 - val_accuracy: 0.6753\n",
      "Epoch 7/100\n",
      "1000/1000 [==============================] - 615s 615ms/step - loss: 0.7722 - f1_score: 0.7232 - accuracy: 0.7232 - val_loss: 0.6859 - val_f1_score: 0.7342 - val_accuracy: 0.7342\n",
      "Epoch 8/100\n",
      "1000/1000 [==============================] - 633s 633ms/step - loss: 0.7663 - f1_score: 0.7259 - accuracy: 0.7259 - val_loss: 0.7440 - val_f1_score: 0.6978 - val_accuracy: 0.6978\n",
      "Epoch 9/100\n",
      "1000/1000 [==============================] - 617s 616ms/step - loss: 0.7680 - f1_score: 0.7227 - accuracy: 0.7227 - val_loss: 0.7499 - val_f1_score: 0.6998 - val_accuracy: 0.6998\n",
      "Epoch 10/100\n",
      "1000/1000 [==============================] - 615s 615ms/step - loss: 0.7625 - f1_score: 0.7264 - accuracy: 0.7264 - val_loss: 0.6817 - val_f1_score: 0.7369 - val_accuracy: 0.7369\n",
      "Epoch 11/100\n",
      "1000/1000 [==============================] - 615s 615ms/step - loss: 0.7566 - f1_score: 0.7293 - accuracy: 0.7293 - val_loss: 0.6894 - val_f1_score: 0.7259 - val_accuracy: 0.7259\n",
      "Epoch 12/100\n",
      "1000/1000 [==============================] - 620s 620ms/step - loss: 0.7538 - f1_score: 0.7307 - accuracy: 0.7307 - val_loss: 0.6119 - val_f1_score: 0.7699 - val_accuracy: 0.7699\n",
      "Epoch 13/100\n",
      "1000/1000 [==============================] - 621s 621ms/step - loss: 0.7445 - f1_score: 0.7363 - accuracy: 0.7363 - val_loss: 0.6614 - val_f1_score: 0.7469 - val_accuracy: 0.7469\n",
      "Epoch 14/100\n",
      "1000/1000 [==============================] - 623s 622ms/step - loss: 0.7482 - f1_score: 0.7318 - accuracy: 0.7318 - val_loss: 0.6263 - val_f1_score: 0.7641 - val_accuracy: 0.7641\n",
      "Epoch 15/100\n",
      "1000/1000 [==============================] - 615s 615ms/step - loss: 0.7429 - f1_score: 0.7382 - accuracy: 0.7382 - val_loss: 0.6238 - val_f1_score: 0.7643 - val_accuracy: 0.7643\n",
      "Epoch 16/100\n",
      "1000/1000 [==============================] - 612s 612ms/step - loss: 0.7492 - f1_score: 0.7282 - accuracy: 0.7282 - val_loss: 0.6696 - val_f1_score: 0.7431 - val_accuracy: 0.7431\n",
      "Epoch 17/100\n",
      "1000/1000 [==============================] - 610s 610ms/step - loss: 0.7502 - f1_score: 0.7321 - accuracy: 0.7321 - val_loss: 0.6731 - val_f1_score: 0.7390 - val_accuracy: 0.7390\n"
     ]
    }
   ],
   "source": [
    "history = model.fit(train_imgs,  steps_per_epoch=1000, epochs=100, verbose=1, validation_data=valid_imgs, \n",
    "                    class_weight=class_weight, callbacks=[checkpoint_cb, earlystop_cb])"
   ]
  },
  {
   "cell_type": "code",
   "execution_count": 18,
   "id": "e7151fa6",
   "metadata": {
    "execution": {
     "iopub.execute_input": "2021-08-13T18:08:15.828655Z",
     "iopub.status.busy": "2021-08-13T18:08:15.828140Z",
     "iopub.status.idle": "2021-08-13T18:08:17.996927Z",
     "shell.execute_reply": "2021-08-13T18:08:17.997511Z",
     "shell.execute_reply.started": "2021-08-13T14:38:32.417512Z"
    },
    "papermill": {
     "duration": 6.600841,
     "end_time": "2021-08-13T18:08:17.997698",
     "exception": false,
     "start_time": "2021-08-13T18:08:11.396857",
     "status": "completed"
    },
    "tags": []
   },
   "outputs": [
    {
     "name": "stdout",
     "output_type": "stream",
     "text": [
      "Found 968 validated image filenames.\n"
     ]
    },
    {
     "name": "stderr",
     "output_type": "stream",
     "text": [
      "/opt/conda/lib/python3.7/site-packages/keras_preprocessing/image/dataframe_iterator.py:282: UserWarning: Found 4 invalid image filename(s) in x_col=\"FILENAME\". These filename(s) will be ignored.\n",
      "  .format(n_invalid, x_col)\n"
     ]
    }
   ],
   "source": [
    "test_image_datagen = ImageDataGenerator( rescale = 1./255.)\n",
    "\n",
    "test_imgs = test_image_datagen.flow_from_dataframe(test_df, directory=None, x_col='FILENAME', y_col=cols, validate_filenames=True,\n",
    "                                        class_mode=\"raw\", target_size=(224,224), batch_size=32)"
   ]
  },
  {
   "cell_type": "code",
   "execution_count": 19,
   "id": "09377553",
   "metadata": {
    "execution": {
     "iopub.execute_input": "2021-08-13T18:08:27.130138Z",
     "iopub.status.busy": "2021-08-13T18:08:27.125158Z",
     "iopub.status.idle": "2021-08-13T18:08:35.942838Z",
     "shell.execute_reply": "2021-08-13T18:08:35.943215Z",
     "shell.execute_reply.started": "2021-08-13T14:38:34.472535Z"
    },
    "papermill": {
     "duration": 13.544848,
     "end_time": "2021-08-13T18:08:35.943361",
     "exception": false,
     "start_time": "2021-08-13T18:08:22.398513",
     "status": "completed"
    },
    "tags": []
   },
   "outputs": [
    {
     "name": "stdout",
     "output_type": "stream",
     "text": [
      "31/31 [==============================] - 8s 266ms/step - loss: 0.3991 - f1_score: 0.8492 - accuracy: 0.8492\n"
     ]
    },
    {
     "data": {
      "text/plain": [
       "[0.39906707406044006, 0.8491734862327576, 0.8491735458374023]"
      ]
     },
     "execution_count": 19,
     "metadata": {},
     "output_type": "execute_result"
    }
   ],
   "source": [
    "model.load_weights(\"oct_xception100per.h5\")\n",
    "model.evaluate(test_imgs)"
   ]
  },
  {
   "cell_type": "code",
   "execution_count": 20,
   "id": "1aa3926f",
   "metadata": {
    "execution": {
     "iopub.execute_input": "2021-08-13T18:08:46.109498Z",
     "iopub.status.busy": "2021-08-13T18:08:46.107855Z",
     "iopub.status.idle": "2021-08-13T18:08:50.591974Z",
     "shell.execute_reply": "2021-08-13T18:08:50.591477Z",
     "shell.execute_reply.started": "2021-08-13T14:38:43.556670Z"
    },
    "papermill": {
     "duration": 9.692917,
     "end_time": "2021-08-13T18:08:50.592115",
     "exception": false,
     "start_time": "2021-08-13T18:08:40.899198",
     "status": "completed"
    },
    "tags": []
   },
   "outputs": [
    {
     "data": {
      "text/plain": [
       "array([[8.00621435e-02, 2.47314982e-02, 8.79140496e-01, 1.60658639e-02],\n",
       "       [3.90859097e-01, 3.14673856e-02, 5.01452744e-01, 7.62207806e-02],\n",
       "       [3.02537270e-02, 9.69362497e-01, 1.00427365e-04, 2.83292582e-04],\n",
       "       ...,\n",
       "       [3.92197907e-01, 1.09767430e-01, 4.87209767e-01, 1.08248908e-02],\n",
       "       [8.71802092e-01, 1.20001048e-01, 8.09742324e-03, 9.93609719e-05],\n",
       "       [7.64022814e-03, 9.86903787e-01, 5.33280056e-03, 1.23239835e-04]],\n",
       "      dtype=float32)"
      ]
     },
     "execution_count": 20,
     "metadata": {},
     "output_type": "execute_result"
    }
   ],
   "source": [
    "results = model.predict(test_imgs)\n",
    "results"
   ]
  },
  {
   "cell_type": "code",
   "execution_count": 21,
   "id": "4ad680e2",
   "metadata": {
    "execution": {
     "iopub.execute_input": "2021-08-13T18:08:59.389387Z",
     "iopub.status.busy": "2021-08-13T18:08:59.388611Z",
     "iopub.status.idle": "2021-08-13T18:09:00.164762Z",
     "shell.execute_reply": "2021-08-13T18:09:00.163666Z",
     "shell.execute_reply.started": "2021-08-13T14:38:48.151337Z"
    },
    "papermill": {
     "duration": 5.150754,
     "end_time": "2021-08-13T18:09:00.164893",
     "exception": false,
     "start_time": "2021-08-13T18:08:55.014139",
     "status": "completed"
    },
    "tags": []
   },
   "outputs": [],
   "source": [
    "from sklearn.metrics import classification_report, plot_confusion_matrix, confusion_matrix"
   ]
  },
  {
   "cell_type": "code",
   "execution_count": 22,
   "id": "a11ed7ab",
   "metadata": {
    "execution": {
     "iopub.execute_input": "2021-08-13T18:09:09.399005Z",
     "iopub.status.busy": "2021-08-13T18:09:09.378578Z",
     "iopub.status.idle": "2021-08-13T18:09:09.695139Z",
     "shell.execute_reply": "2021-08-13T18:09:09.696328Z",
     "shell.execute_reply.started": "2021-08-13T15:01:42.111274Z"
    },
    "papermill": {
     "duration": 4.834048,
     "end_time": "2021-08-13T18:09:09.696576",
     "exception": false,
     "start_time": "2021-08-13T18:09:04.862528",
     "status": "completed"
    },
    "tags": []
   },
   "outputs": [],
   "source": [
    "model.save(\"oct_xception100per.h5\")"
   ]
  },
  {
   "cell_type": "code",
   "execution_count": null,
   "id": "983b1dbe",
   "metadata": {
    "papermill": {
     "duration": 4.596658,
     "end_time": "2021-08-13T18:09:19.291545",
     "exception": false,
     "start_time": "2021-08-13T18:09:14.694887",
     "status": "completed"
    },
    "tags": []
   },
   "outputs": [],
   "source": []
  }
 ],
 "metadata": {
  "kernelspec": {
   "display_name": "Python 3",
   "language": "python",
   "name": "python3"
  },
  "language_info": {
   "codemirror_mode": {
    "name": "ipython",
    "version": 3
   },
   "file_extension": ".py",
   "mimetype": "text/x-python",
   "name": "python",
   "nbconvert_exporter": "python",
   "pygments_lexer": "ipython3",
   "version": "3.7.10"
  },
  "papermill": {
   "default_parameters": {},
   "duration": 11057.971197,
   "end_time": "2021-08-13T18:09:26.770185",
   "environment_variables": {},
   "exception": null,
   "input_path": "__notebook__.ipynb",
   "output_path": "__notebook__.ipynb",
   "parameters": {},
   "start_time": "2021-08-13T15:05:08.798988",
   "version": "2.3.3"
  }
 },
 "nbformat": 4,
 "nbformat_minor": 5
}
