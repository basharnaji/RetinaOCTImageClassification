{
 "cells": [
  {
   "cell_type": "markdown",
   "id": "f61c9ad2",
   "metadata": {
    "papermill": {
     "duration": 0.023617,
     "end_time": "2021-08-20T08:06:23.038172",
     "exception": false,
     "start_time": "2021-08-20T08:06:23.014555",
     "status": "completed"
    },
    "tags": []
   },
   "source": [
    "# OCT image classification - Xception"
   ]
  },
  {
   "cell_type": "markdown",
   "id": "6e819f4c",
   "metadata": {
    "papermill": {
     "duration": 0.022242,
     "end_time": "2021-08-20T08:06:23.083542",
     "exception": false,
     "start_time": "2021-08-20T08:06:23.061300",
     "status": "completed"
    },
    "tags": []
   },
   "source": [
    "Experiment with the number of trainable layers. Use 10% of train data"
   ]
  },
  {
   "cell_type": "code",
   "execution_count": 1,
   "id": "9b78044a",
   "metadata": {
    "_cell_guid": "b1076dfc-b9ad-4769-8c92-a6c4dae69d19",
    "_uuid": "8f2839f25d086af736a60e9eeb907d3b93b6e0e5",
    "execution": {
     "iopub.execute_input": "2021-08-20T08:06:23.138242Z",
     "iopub.status.busy": "2021-08-20T08:06:23.136128Z",
     "iopub.status.idle": "2021-08-20T08:06:23.224742Z",
     "shell.execute_reply": "2021-08-20T08:06:23.224009Z",
     "shell.execute_reply.started": "2021-08-18T08:39:20.544191Z"
    },
    "papermill": {
     "duration": 0.118245,
     "end_time": "2021-08-20T08:06:23.224946",
     "exception": false,
     "start_time": "2021-08-20T08:06:23.106701",
     "status": "completed"
    },
    "tags": []
   },
   "outputs": [],
   "source": [
    "# This Python 3 environment comes with many helpful analytics libraries installed\n",
    "# It is defined by the kaggle/python Docker image: https://github.com/kaggle/docker-python\n",
    "# For example, here's several helpful packages to load\n",
    "\n",
    "import numpy as np # linear algebra\n",
    "import pandas as pd # data processing, CSV file I/O (e.g. pd.read_csv)\n",
    "\n",
    "# Input data files are available in the read-only \"../input/\" directory\n",
    "# For example, running this (by clicking run or pressing Shift+Enter) will list all files under the input directory\n",
    "\n",
    "import os\n",
    "#for dirname, _, filenames in os.walk('/kaggle/input'):\n",
    "# for filename in filenames:\n",
    "#       print(os.path.join(dirname, filename))\n",
    "\n",
    "# You can write up to 20GB to the current directory (/kaggle/working/) that gets preserved as output when you create a version using \"Save & Run All\" \n",
    "# You can also write temporary files to /kaggle/temp/, but they won't be saved outside of the current session"
   ]
  },
  {
   "cell_type": "code",
   "execution_count": 2,
   "id": "b531887f",
   "metadata": {
    "execution": {
     "iopub.execute_input": "2021-08-20T08:06:23.309251Z",
     "iopub.status.busy": "2021-08-20T08:06:23.308189Z",
     "iopub.status.idle": "2021-08-20T08:06:23.313757Z",
     "shell.execute_reply": "2021-08-20T08:06:23.314528Z",
     "shell.execute_reply.started": "2021-08-18T08:39:20.919574Z"
    },
    "papermill": {
     "duration": 0.053001,
     "end_time": "2021-08-20T08:06:23.314807",
     "exception": false,
     "start_time": "2021-08-20T08:06:23.261806",
     "status": "completed"
    },
    "tags": []
   },
   "outputs": [],
   "source": [
    "image_path = '/kaggle/input/kermany2018/oct2017/OCT2017 '\n",
    "oct_csv_path = '/kaggle/input/oct-csv/'\n",
    "train_dir = image_path + \"/train/\"\n",
    "valid_dir = image_path + \"/val/\"\n",
    "test_dir = image_path + \"/test/\""
   ]
  },
  {
   "cell_type": "code",
   "execution_count": 3,
   "id": "f684ac1c",
   "metadata": {
    "execution": {
     "iopub.execute_input": "2021-08-20T08:06:23.384847Z",
     "iopub.status.busy": "2021-08-20T08:06:23.383727Z",
     "iopub.status.idle": "2021-08-20T08:06:23.386907Z",
     "shell.execute_reply": "2021-08-20T08:06:23.387486Z",
     "shell.execute_reply.started": "2021-08-18T08:39:21.278404Z"
    },
    "papermill": {
     "duration": 0.032999,
     "end_time": "2021-08-20T08:06:23.387658",
     "exception": false,
     "start_time": "2021-08-20T08:06:23.354659",
     "status": "completed"
    },
    "tags": []
   },
   "outputs": [],
   "source": [
    "classes = ['CNV', 'DME', 'DRUSEN', 'NORMAL']\n",
    "cols = [x.upper() for x in classes]\n",
    "dirs = [train_dir, valid_dir, test_dir]\n",
    "label = {0: 'CNV', 1: 'DME', 2: 'DRUSEN', 3: 'NORMAL'}\n",
    "IMG_SIZE = 224\n",
    "\n",
    "# if we should read the directory structre, if False then use the CSV files already saved\n",
    "# Once you generate the csv files you should probably download them and re-upload into kaggle and set this to FALSE\n",
    "REGEN = False"
   ]
  },
  {
   "cell_type": "code",
   "execution_count": 4,
   "id": "6e323ea3",
   "metadata": {
    "execution": {
     "iopub.execute_input": "2021-08-20T08:06:23.442562Z",
     "iopub.status.busy": "2021-08-20T08:06:23.441442Z",
     "iopub.status.idle": "2021-08-20T08:06:23.445288Z",
     "shell.execute_reply": "2021-08-20T08:06:23.444732Z",
     "shell.execute_reply.started": "2021-08-18T08:39:21.639566Z"
    },
    "papermill": {
     "duration": 0.034941,
     "end_time": "2021-08-20T08:06:23.445425",
     "exception": false,
     "start_time": "2021-08-20T08:06:23.410484",
     "status": "completed"
    },
    "tags": []
   },
   "outputs": [],
   "source": [
    "def create_df (path, classes=classes):\n",
    "  df = pd.DataFrame(columns=['FILENAME', 'CNV', 'DME', 'DRUSEN', 'NORMAL'])\n",
    "  for sub_dir in classes:\n",
    "    condition = {'NORMAL': 0, 'CNV': 0, 'DME':0, 'DRUSEN': 0}\n",
    "    files = os.listdir(path + sub_dir)\n",
    "    if (sub_dir== 'NORMAL'):\n",
    "      condition['NORMAL'] = 1\n",
    "    elif (sub_dir == 'CNV'):\n",
    "      condition['CNV'] = 1\n",
    "    elif (sub_dir == 'DME'):\n",
    "      condition['DME'] = 1\n",
    "    else:\n",
    "      condition['DRUSEN']= 1\n",
    "    for f in files:\n",
    "      df = df.append({'FILENAME': path +  sub_dir  + \"/\" + f, \n",
    "                      'NORMAL': condition['NORMAL'], \n",
    "                      'CNV': condition['CNV'],\n",
    "                      'DME': condition['DME'],\n",
    "                      'DRUSEN': condition['DRUSEN']}, ignore_index=True)\n",
    "  return df"
   ]
  },
  {
   "cell_type": "code",
   "execution_count": 5,
   "id": "3a5795c0",
   "metadata": {
    "execution": {
     "iopub.execute_input": "2021-08-20T08:06:23.499649Z",
     "iopub.status.busy": "2021-08-20T08:06:23.498946Z",
     "iopub.status.idle": "2021-08-20T08:06:23.738857Z",
     "shell.execute_reply": "2021-08-20T08:06:23.737563Z",
     "shell.execute_reply.started": "2021-08-18T08:39:21.999547Z"
    },
    "papermill": {
     "duration": 0.27058,
     "end_time": "2021-08-20T08:06:23.739034",
     "exception": false,
     "start_time": "2021-08-20T08:06:23.468454",
     "status": "completed"
    },
    "tags": []
   },
   "outputs": [],
   "source": [
    "# Generting the DataFrames of the filenames\n",
    "# this is primarily used so we can sub-sample files easier for the different training strategies\n",
    "if (REGEN):\n",
    "  train_df = create_df(train_dir)\n",
    "  valid_df = create_df(valid_dir)\n",
    "  test_df = create_df(test_dir)\n",
    "  train_df.to_csv(\"train_data.csv\")\n",
    "  valid_df.to_csv(\"valid_data.csv\")\n",
    "  test_df.to_csv(\"test_data.csv\")\n",
    "else:\n",
    "  train_df = pd.read_csv(oct_csv_path + \"train_data.csv\")\n",
    "  valid_df = pd.read_csv(oct_csv_path + \"valid_data.csv\")\n",
    "  test_df = pd.read_csv(oct_csv_path + \"test_data.csv\")"
   ]
  },
  {
   "cell_type": "code",
   "execution_count": 6,
   "id": "d9cc2097",
   "metadata": {
    "execution": {
     "iopub.execute_input": "2021-08-20T08:06:23.792808Z",
     "iopub.status.busy": "2021-08-20T08:06:23.791934Z",
     "iopub.status.idle": "2021-08-20T08:06:23.797618Z",
     "shell.execute_reply": "2021-08-20T08:06:23.796753Z",
     "shell.execute_reply.started": "2021-08-18T08:39:22.360704Z"
    },
    "papermill": {
     "duration": 0.03575,
     "end_time": "2021-08-20T08:06:23.797853",
     "exception": false,
     "start_time": "2021-08-20T08:06:23.762103",
     "status": "completed"
    },
    "tags": []
   },
   "outputs": [
    {
     "name": "stdout",
     "output_type": "stream",
     "text": [
      "Training Data:  (83484, 5)\n",
      "Validation Data:  (36, 5)\n",
      "Test Data:  (972, 5)\n"
     ]
    }
   ],
   "source": [
    "print (\"Training Data: \", train_df.shape)\n",
    "print (\"Validation Data: \", valid_df.shape)\n",
    "print (\"Test Data: \", test_df.shape)"
   ]
  },
  {
   "cell_type": "code",
   "execution_count": 7,
   "id": "507b5c02",
   "metadata": {
    "execution": {
     "iopub.execute_input": "2021-08-20T08:06:23.855311Z",
     "iopub.status.busy": "2021-08-20T08:06:23.854153Z",
     "iopub.status.idle": "2021-08-20T08:06:23.861988Z",
     "shell.execute_reply": "2021-08-20T08:06:23.860875Z",
     "shell.execute_reply.started": "2021-08-18T08:39:22.794928Z"
    },
    "papermill": {
     "duration": 0.038643,
     "end_time": "2021-08-20T08:06:23.862249",
     "exception": false,
     "start_time": "2021-08-20T08:06:23.823606",
     "status": "completed"
    },
    "tags": []
   },
   "outputs": [
    {
     "name": "stdout",
     "output_type": "stream",
     "text": [
      "Trainig Data percentages:\n",
      " 1% ==>  834\n",
      " 5% ==>  4174\n",
      "10% ==>  8348\n",
      "25% ==>  20871\n",
      "50% ==>  41742\n",
      "75% ==>  62613\n",
      "90% ==>  75135\n",
      "98% ==>  81814\n"
     ]
    }
   ],
   "source": [
    "# Printing out the # of samples for each subsample percentage \n",
    "print (\"Trainig Data percentages:\")\n",
    "print (\" 1% ==> \", int(.01 * train_df.shape[0]))\n",
    "print (\" 5% ==> \", int(.05 * train_df.shape[0]))\n",
    "print (\"10% ==> \", int(.1  * train_df.shape[0]))\n",
    "print (\"25% ==> \", int(.25 * train_df.shape[0]))\n",
    "print (\"50% ==> \", int(.5  * train_df.shape[0]))\n",
    "print (\"75% ==> \", int(.75 * train_df.shape[0]))\n",
    "print (\"90% ==> \", int(.9  * train_df.shape[0]))\n",
    "print (\"98% ==> \", int(.98 * train_df.shape[0]))"
   ]
  },
  {
   "cell_type": "code",
   "execution_count": 8,
   "id": "1fd619bd",
   "metadata": {
    "execution": {
     "iopub.execute_input": "2021-08-20T08:06:23.917182Z",
     "iopub.status.busy": "2021-08-20T08:06:23.916194Z",
     "iopub.status.idle": "2021-08-20T08:06:23.930535Z",
     "shell.execute_reply": "2021-08-20T08:06:23.931091Z",
     "shell.execute_reply.started": "2021-08-18T08:39:23.507530Z"
    },
    "papermill": {
     "duration": 0.045042,
     "end_time": "2021-08-20T08:06:23.931260",
     "exception": false,
     "start_time": "2021-08-20T08:06:23.886218",
     "status": "completed"
    },
    "tags": []
   },
   "outputs": [
    {
     "data": {
      "text/plain": [
       "(8348, 5)"
      ]
     },
     "execution_count": 8,
     "metadata": {},
     "output_type": "execute_result"
    }
   ],
   "source": [
    "# Sampling 10% of the data\n",
    "sample = train_df.sample(frac=0.1, random_state=10, axis=0)\n",
    "sample.shape"
   ]
  },
  {
   "cell_type": "code",
   "execution_count": 9,
   "id": "901015d8",
   "metadata": {
    "execution": {
     "iopub.execute_input": "2021-08-20T08:06:23.985605Z",
     "iopub.status.busy": "2021-08-20T08:06:23.984574Z",
     "iopub.status.idle": "2021-08-20T08:06:23.988068Z",
     "shell.execute_reply": "2021-08-20T08:06:23.987531Z",
     "shell.execute_reply.started": "2021-08-18T08:39:24.160539Z"
    },
    "papermill": {
     "duration": 0.033695,
     "end_time": "2021-08-20T08:06:23.988214",
     "exception": false,
     "start_time": "2021-08-20T08:06:23.954519",
     "status": "completed"
    },
    "tags": []
   },
   "outputs": [],
   "source": [
    "# determine class weights to feed into neural network during training\n",
    "def get_classweight(df):\n",
    "  total = df.shape[0]\n",
    "  num_norm = df['NORMAL'].sum()\n",
    "  num_cnv = df['CNV'].sum()\n",
    "  num_dme = df['DME'].sum()\n",
    "  num_drusen = df['DRUSEN'].sum()\n",
    "  norm_weight = (1/num_norm) * (total/4)\n",
    "  cnv_weight = (1/num_cnv) * (total/4)\n",
    "  dme_weight = (1/num_dme) * (total/4)\n",
    "  drusen_weight = (1/num_drusen) * (total/4)\n",
    "  class_weight = {0 : cnv_weight, 1: dme_weight,\n",
    "                  2 : drusen_weight, 3: norm_weight}\n",
    "  return class_weight"
   ]
  },
  {
   "cell_type": "code",
   "execution_count": 10,
   "id": "30448ecd",
   "metadata": {
    "execution": {
     "iopub.execute_input": "2021-08-20T08:06:24.046931Z",
     "iopub.status.busy": "2021-08-20T08:06:24.044968Z",
     "iopub.status.idle": "2021-08-20T08:06:24.051770Z",
     "shell.execute_reply": "2021-08-20T08:06:24.051161Z",
     "shell.execute_reply.started": "2021-08-18T08:39:24.722149Z"
    },
    "papermill": {
     "duration": 0.040929,
     "end_time": "2021-08-20T08:06:24.051952",
     "exception": false,
     "start_time": "2021-08-20T08:06:24.011023",
     "status": "completed"
    },
    "tags": []
   },
   "outputs": [
    {
     "data": {
      "text/plain": [
       "{0: 0.5654294229206177,\n",
       " 1: 1.8387665198237886,\n",
       " 2: 2.371590909090909,\n",
       " 3: 0.7899318697956094}"
      ]
     },
     "execution_count": 10,
     "metadata": {},
     "output_type": "execute_result"
    }
   ],
   "source": [
    "class_weight = get_classweight(sample)\n",
    "class_weight"
   ]
  },
  {
   "cell_type": "code",
   "execution_count": 11,
   "id": "c62d5de4",
   "metadata": {
    "execution": {
     "iopub.execute_input": "2021-08-20T08:06:24.105595Z",
     "iopub.status.busy": "2021-08-20T08:06:24.104953Z",
     "iopub.status.idle": "2021-08-20T08:06:29.504794Z",
     "shell.execute_reply": "2021-08-20T08:06:29.504164Z",
     "shell.execute_reply.started": "2021-08-18T08:39:25.327875Z"
    },
    "papermill": {
     "duration": 5.428194,
     "end_time": "2021-08-20T08:06:29.504967",
     "exception": false,
     "start_time": "2021-08-20T08:06:24.076773",
     "status": "completed"
    },
    "tags": []
   },
   "outputs": [],
   "source": [
    "import tensorflow as tf\n",
    "from tensorflow import keras\n",
    "import tensorflow_addons as tfa\n",
    "import tensorflow.keras.applications as app\n",
    "from tensorflow.keras.preprocessing.image import ImageDataGenerator"
   ]
  },
  {
   "cell_type": "code",
   "execution_count": 12,
   "id": "04238f3f",
   "metadata": {
    "execution": {
     "iopub.execute_input": "2021-08-20T08:06:29.566063Z",
     "iopub.status.busy": "2021-08-20T08:06:29.565056Z",
     "iopub.status.idle": "2021-08-20T08:06:57.138628Z",
     "shell.execute_reply": "2021-08-20T08:06:57.139132Z",
     "shell.execute_reply.started": "2021-08-18T08:39:26.638647Z"
    },
    "papermill": {
     "duration": 27.609688,
     "end_time": "2021-08-20T08:06:57.139316",
     "exception": false,
     "start_time": "2021-08-20T08:06:29.529628",
     "status": "completed"
    },
    "tags": []
   },
   "outputs": [
    {
     "name": "stdout",
     "output_type": "stream",
     "text": [
      "Found 7514 validated image filenames.\n",
      "Found 834 validated image filenames.\n"
     ]
    }
   ],
   "source": [
    "train_image_datagen = ImageDataGenerator(rotation_range=90, width_shift_range=[-.1,.1], height_shift_range=[-.1,.1],\n",
    "                                         shear_range=0.25, zoom_range=0.3, horizontal_flip=True,\n",
    "                                         vertical_flip=True, rescale = 1./255., validation_split=0.1)\n",
    "\n",
    "# Setting the imgages to come from the dataframe where we specify the filenames and columns to use for \"labels\"\n",
    "train_imgs = train_image_datagen.flow_from_dataframe(sample, directory=None, x_col='FILENAME', y_col=cols, subset=\"training\",\n",
    "                                        class_mode=\"raw\", target_size=(IMG_SIZE,IMG_SIZE), batch_size=32, seed=10)\n",
    "valid_imgs = train_image_datagen.flow_from_dataframe(sample, directory=None, x_col='FILENAME', y_col=cols, subset=\"validation\",\n",
    "                                        class_mode=\"raw\", target_size=(IMG_SIZE,IMG_SIZE), batch_size=32, seed=10)"
   ]
  },
  {
   "cell_type": "code",
   "execution_count": 13,
   "id": "389d9316",
   "metadata": {
    "execution": {
     "iopub.execute_input": "2021-08-20T08:06:57.196610Z",
     "iopub.status.busy": "2021-08-20T08:06:57.195875Z",
     "iopub.status.idle": "2021-08-20T08:07:06.649043Z",
     "shell.execute_reply": "2021-08-20T08:07:06.648091Z",
     "shell.execute_reply.started": "2021-08-18T08:39:44.674097Z"
    },
    "papermill": {
     "duration": 9.484267,
     "end_time": "2021-08-20T08:07:06.649268",
     "exception": false,
     "start_time": "2021-08-20T08:06:57.165001",
     "status": "completed"
    },
    "tags": []
   },
   "outputs": [
    {
     "name": "stdout",
     "output_type": "stream",
     "text": [
      "Downloading data from https://storage.googleapis.com/tensorflow/keras-applications/xception/xception_weights_tf_dim_ordering_tf_kernels_notop.h5\n",
      "83689472/83683744 [==============================] - 4s 0us/step\n"
     ]
    }
   ],
   "source": [
    "# Creating the model based on Xception Network\n",
    "input_layer = keras.Input(shape=(IMG_SIZE, IMG_SIZE, 3))\n",
    "base_model = app.xception.Xception(include_top=False, weights=\"imagenet\", input_shape=(IMG_SIZE,IMG_SIZE,3))\n",
    "\n",
    "\n",
    "x = base_model(input_layer)\n",
    "x = keras.layers.GlobalAveragePooling2D()(x)\n",
    "output = keras.layers.Dense(4, activation=\"softmax\")(x)\n",
    "\n",
    "\n",
    "# set base_model layers trainable\n",
    "\n",
    "base_model.trainable = True\n",
    "\n",
    "set_trainable = False\n",
    "\n",
    "# set layers to trainable\n",
    "for layer in base_model.layers:\n",
    "    if layer in base_model.layers[116:] :\n",
    "        set_trainable = True\n",
    "        layer.trainable = True\n",
    "    if set_trainable:\n",
    "        layer.trainable = True\n",
    "    else:\n",
    "        layer.trainable = False \n",
    "\n",
    "\n",
    "model = keras.Model(inputs=input_layer, outputs=output)\n"
   ]
  },
  {
   "cell_type": "code",
   "execution_count": 14,
   "id": "d88ad812",
   "metadata": {
    "execution": {
     "iopub.execute_input": "2021-08-20T08:07:06.725054Z",
     "iopub.status.busy": "2021-08-20T08:07:06.723905Z",
     "iopub.status.idle": "2021-08-20T08:07:06.740580Z",
     "shell.execute_reply": "2021-08-20T08:07:06.739977Z",
     "shell.execute_reply.started": "2021-08-18T08:39:57.441844Z"
    },
    "papermill": {
     "duration": 0.058028,
     "end_time": "2021-08-20T08:07:06.740722",
     "exception": false,
     "start_time": "2021-08-20T08:07:06.682694",
     "status": "completed"
    },
    "tags": []
   },
   "outputs": [
    {
     "data": {
      "text/html": [
       "<div>\n",
       "<style scoped>\n",
       "    .dataframe tbody tr th:only-of-type {\n",
       "        vertical-align: middle;\n",
       "    }\n",
       "\n",
       "    .dataframe tbody tr th {\n",
       "        vertical-align: top;\n",
       "    }\n",
       "\n",
       "    .dataframe thead th {\n",
       "        text-align: right;\n",
       "    }\n",
       "</style>\n",
       "<table border=\"1\" class=\"dataframe\">\n",
       "  <thead>\n",
       "    <tr style=\"text-align: right;\">\n",
       "      <th></th>\n",
       "      <th>Layer Type</th>\n",
       "      <th>Layer Name</th>\n",
       "      <th>Layer Trainable</th>\n",
       "    </tr>\n",
       "  </thead>\n",
       "  <tbody>\n",
       "    <tr>\n",
       "      <th>0</th>\n",
       "      <td>&lt;tensorflow.python.keras.engine.input_layer.In...</td>\n",
       "      <td>input_2</td>\n",
       "      <td>False</td>\n",
       "    </tr>\n",
       "    <tr>\n",
       "      <th>1</th>\n",
       "      <td>&lt;tensorflow.python.keras.layers.convolutional....</td>\n",
       "      <td>block1_conv1</td>\n",
       "      <td>False</td>\n",
       "    </tr>\n",
       "    <tr>\n",
       "      <th>2</th>\n",
       "      <td>&lt;tensorflow.python.keras.layers.normalization_...</td>\n",
       "      <td>block1_conv1_bn</td>\n",
       "      <td>False</td>\n",
       "    </tr>\n",
       "    <tr>\n",
       "      <th>3</th>\n",
       "      <td>&lt;tensorflow.python.keras.layers.core.Activatio...</td>\n",
       "      <td>block1_conv1_act</td>\n",
       "      <td>False</td>\n",
       "    </tr>\n",
       "    <tr>\n",
       "      <th>4</th>\n",
       "      <td>&lt;tensorflow.python.keras.layers.convolutional....</td>\n",
       "      <td>block1_conv2</td>\n",
       "      <td>False</td>\n",
       "    </tr>\n",
       "    <tr>\n",
       "      <th>...</th>\n",
       "      <td>...</td>\n",
       "      <td>...</td>\n",
       "      <td>...</td>\n",
       "    </tr>\n",
       "    <tr>\n",
       "      <th>127</th>\n",
       "      <td>&lt;tensorflow.python.keras.layers.normalization_...</td>\n",
       "      <td>block14_sepconv1_bn</td>\n",
       "      <td>True</td>\n",
       "    </tr>\n",
       "    <tr>\n",
       "      <th>128</th>\n",
       "      <td>&lt;tensorflow.python.keras.layers.core.Activatio...</td>\n",
       "      <td>block14_sepconv1_act</td>\n",
       "      <td>True</td>\n",
       "    </tr>\n",
       "    <tr>\n",
       "      <th>129</th>\n",
       "      <td>&lt;tensorflow.python.keras.layers.convolutional....</td>\n",
       "      <td>block14_sepconv2</td>\n",
       "      <td>True</td>\n",
       "    </tr>\n",
       "    <tr>\n",
       "      <th>130</th>\n",
       "      <td>&lt;tensorflow.python.keras.layers.normalization_...</td>\n",
       "      <td>block14_sepconv2_bn</td>\n",
       "      <td>True</td>\n",
       "    </tr>\n",
       "    <tr>\n",
       "      <th>131</th>\n",
       "      <td>&lt;tensorflow.python.keras.layers.core.Activatio...</td>\n",
       "      <td>block14_sepconv2_act</td>\n",
       "      <td>True</td>\n",
       "    </tr>\n",
       "  </tbody>\n",
       "</table>\n",
       "<p>132 rows × 3 columns</p>\n",
       "</div>"
      ],
      "text/plain": [
       "                                            Layer Type            Layer Name  \\\n",
       "0    <tensorflow.python.keras.engine.input_layer.In...               input_2   \n",
       "1    <tensorflow.python.keras.layers.convolutional....          block1_conv1   \n",
       "2    <tensorflow.python.keras.layers.normalization_...       block1_conv1_bn   \n",
       "3    <tensorflow.python.keras.layers.core.Activatio...      block1_conv1_act   \n",
       "4    <tensorflow.python.keras.layers.convolutional....          block1_conv2   \n",
       "..                                                 ...                   ...   \n",
       "127  <tensorflow.python.keras.layers.normalization_...   block14_sepconv1_bn   \n",
       "128  <tensorflow.python.keras.layers.core.Activatio...  block14_sepconv1_act   \n",
       "129  <tensorflow.python.keras.layers.convolutional....      block14_sepconv2   \n",
       "130  <tensorflow.python.keras.layers.normalization_...   block14_sepconv2_bn   \n",
       "131  <tensorflow.python.keras.layers.core.Activatio...  block14_sepconv2_act   \n",
       "\n",
       "     Layer Trainable  \n",
       "0              False  \n",
       "1              False  \n",
       "2              False  \n",
       "3              False  \n",
       "4              False  \n",
       "..               ...  \n",
       "127             True  \n",
       "128             True  \n",
       "129             True  \n",
       "130             True  \n",
       "131             True  \n",
       "\n",
       "[132 rows x 3 columns]"
      ]
     },
     "execution_count": 14,
     "metadata": {},
     "output_type": "execute_result"
    }
   ],
   "source": [
    "# layer trainable status of base_model layers\n",
    "layers = [(layer, layer.name, layer.trainable) for layer in base_model.layers]\n",
    "pd.DataFrame(layers, columns=['Layer Type', 'Layer Name', 'Layer Trainable'])  "
   ]
  },
  {
   "cell_type": "code",
   "execution_count": 15,
   "id": "8586ded2",
   "metadata": {
    "execution": {
     "iopub.execute_input": "2021-08-20T08:07:06.826286Z",
     "iopub.status.busy": "2021-08-20T08:07:06.825230Z",
     "iopub.status.idle": "2021-08-20T08:07:06.830301Z",
     "shell.execute_reply": "2021-08-20T08:07:06.831135Z",
     "shell.execute_reply.started": "2021-08-18T08:39:57.484092Z"
    },
    "papermill": {
     "duration": 0.05785,
     "end_time": "2021-08-20T08:07:06.831367",
     "exception": false,
     "start_time": "2021-08-20T08:07:06.773517",
     "status": "completed"
    },
    "tags": []
   },
   "outputs": [
    {
     "name": "stdout",
     "output_type": "stream",
     "text": [
      "Model: \"model\"\n",
      "_________________________________________________________________\n",
      "Layer (type)                 Output Shape              Param #   \n",
      "=================================================================\n",
      "input_1 (InputLayer)         [(None, 224, 224, 3)]     0         \n",
      "_________________________________________________________________\n",
      "xception (Functional)        (None, 7, 7, 2048)        20861480  \n",
      "_________________________________________________________________\n",
      "global_average_pooling2d (Gl (None, 2048)              0         \n",
      "_________________________________________________________________\n",
      "dense (Dense)                (None, 4)                 8196      \n",
      "=================================================================\n",
      "Total params: 20,869,676\n",
      "Trainable params: 6,796,580\n",
      "Non-trainable params: 14,073,096\n",
      "_________________________________________________________________\n"
     ]
    }
   ],
   "source": [
    "model.summary()"
   ]
  },
  {
   "cell_type": "code",
   "execution_count": 16,
   "id": "3e36f823",
   "metadata": {
    "execution": {
     "iopub.execute_input": "2021-08-20T08:07:07.073859Z",
     "iopub.status.busy": "2021-08-20T08:07:07.072767Z",
     "iopub.status.idle": "2021-08-20T08:07:07.094975Z",
     "shell.execute_reply": "2021-08-20T08:07:07.094352Z"
    },
    "papermill": {
     "duration": 0.228735,
     "end_time": "2021-08-20T08:07:07.095128",
     "exception": false,
     "start_time": "2021-08-20T08:07:06.866393",
     "status": "completed"
    },
    "tags": []
   },
   "outputs": [],
   "source": [
    "# This code did not work, it caused I/O Error 5:\n",
    "# model.compile(optimizer=keras.optimizers.Adam(learning_rate=1e-3), loss='categorical_crossentropy', metrics='accuracy')\n",
    "model.compile(optimizer=keras.optimizers.Adam(), loss='categorical_crossentropy', metrics=['accuracy'])"
   ]
  },
  {
   "cell_type": "code",
   "execution_count": 17,
   "id": "cddc38fa",
   "metadata": {
    "execution": {
     "iopub.execute_input": "2021-08-20T08:07:07.171797Z",
     "iopub.status.busy": "2021-08-20T08:07:07.169653Z",
     "iopub.status.idle": "2021-08-20T08:07:07.172752Z",
     "shell.execute_reply": "2021-08-20T08:07:07.173293Z"
    },
    "papermill": {
     "duration": 0.043513,
     "end_time": "2021-08-20T08:07:07.173450",
     "exception": false,
     "start_time": "2021-08-20T08:07:07.129937",
     "status": "completed"
    },
    "tags": []
   },
   "outputs": [],
   "source": [
    "# Creating a checkpoint to save the best model so that we can reload it once training is complete\n",
    "checkpoint_cb = keras.callbacks.ModelCheckpoint(\"oct_xception10per16Layers.h5\", save_best_only=True)\n",
    "# Adding an an early stop callback to avoid overfitting in case the model is not improving after 5 consescutive epochs\n",
    "earlystop_cb = keras.callbacks.EarlyStopping(patience=5, restore_best_weights=True)"
   ]
  },
  {
   "cell_type": "code",
   "execution_count": 18,
   "id": "fa03f83a",
   "metadata": {
    "execution": {
     "iopub.execute_input": "2021-08-20T08:07:07.248569Z",
     "iopub.status.busy": "2021-08-20T08:07:07.247804Z",
     "iopub.status.idle": "2021-08-20T08:25:58.779151Z",
     "shell.execute_reply": "2021-08-20T08:25:58.778302Z",
     "shell.execute_reply.started": "2021-08-15T19:28:50.917286Z"
    },
    "papermill": {
     "duration": 1131.571931,
     "end_time": "2021-08-20T08:25:58.779317",
     "exception": false,
     "start_time": "2021-08-20T08:07:07.207386",
     "status": "completed"
    },
    "tags": []
   },
   "outputs": [
    {
     "name": "stdout",
     "output_type": "stream",
     "text": [
      "Epoch 1/100\n",
      "1000/1000 [==============================] - 201s 190ms/step - loss: 0.7542 - accuracy: 0.7289 - val_loss: 0.5093 - val_accuracy: 0.8237\n",
      "Epoch 1/100\n",
      "1000/1000 [==============================] - 128s 128ms/step - loss: 0.5363 - accuracy: 0.8175 - val_loss: 0.4301 - val_accuracy: 0.8333\n",
      "Epoch 1/100\n",
      "1000/1000 [==============================] - 130s 130ms/step - loss: 0.4917 - accuracy: 0.8267 - val_loss: 0.5976 - val_accuracy: 0.7494\n",
      "Epoch 1/100\n",
      "1000/1000 [==============================] - 130s 130ms/step - loss: 0.4334 - accuracy: 0.8484 - val_loss: 0.4182 - val_accuracy: 0.8537\n",
      "Epoch 1/100\n",
      "1000/1000 [==============================] - 128s 128ms/step - loss: 0.4164 - accuracy: 0.8569 - val_loss: 0.3428 - val_accuracy: 0.8861\n",
      "Epoch 1/100\n",
      "1000/1000 [==============================] - 140s 140ms/step - loss: 0.4089 - accuracy: 0.8579 - val_loss: 0.3934 - val_accuracy: 0.8537\n",
      "Epoch 1/100\n",
      "1000/1000 [==============================] - 134s 134ms/step - loss: 0.3805 - accuracy: 0.8647 - val_loss: 0.3981 - val_accuracy: 0.8513\n",
      "Epoch 1/100\n",
      "1000/1000 [==============================] - 130s 129ms/step - loss: 0.3876 - accuracy: 0.8672 - val_loss: 0.3682 - val_accuracy: 0.8597\n",
      "2min 12s ± 3.62 s per loop (mean ± std. dev. of 7 runs, 1 loop each)\n"
     ]
    }
   ],
   "source": [
    "%%timeit\n",
    "history = model.fit(train_imgs,  steps_per_epoch=1000, epochs=100, verbose=1, validation_data=valid_imgs, \n",
    "                    class_weight=class_weight, callbacks=[checkpoint_cb, earlystop_cb])"
   ]
  },
  {
   "cell_type": "code",
   "execution_count": 19,
   "id": "1c44ea5f",
   "metadata": {
    "execution": {
     "iopub.execute_input": "2021-08-20T08:26:00.093119Z",
     "iopub.status.busy": "2021-08-20T08:26:00.092422Z",
     "iopub.status.idle": "2021-08-20T08:26:02.628600Z",
     "shell.execute_reply": "2021-08-20T08:26:02.629373Z",
     "shell.execute_reply.started": "2021-08-15T19:46:19.868963Z"
    },
    "papermill": {
     "duration": 3.197248,
     "end_time": "2021-08-20T08:26:02.629626",
     "exception": false,
     "start_time": "2021-08-20T08:25:59.432378",
     "status": "completed"
    },
    "tags": []
   },
   "outputs": [
    {
     "name": "stdout",
     "output_type": "stream",
     "text": [
      "Found 968 validated image filenames.\n"
     ]
    },
    {
     "name": "stderr",
     "output_type": "stream",
     "text": [
      "/opt/conda/lib/python3.7/site-packages/keras_preprocessing/image/dataframe_iterator.py:282: UserWarning: Found 4 invalid image filename(s) in x_col=\"FILENAME\". These filename(s) will be ignored.\n",
      "  .format(n_invalid, x_col)\n"
     ]
    }
   ],
   "source": [
    "test_image_datagen = ImageDataGenerator(rescale = 1./255.)\n",
    "\n",
    "test_imgs = test_image_datagen.flow_from_dataframe(test_df, directory=None, x_col='FILENAME', y_col=cols, validate_filenames=True,\n",
    "                                        class_mode=\"raw\", target_size=(224,224), batch_size=32)"
   ]
  },
  {
   "cell_type": "code",
   "execution_count": 20,
   "id": "522bd1b0",
   "metadata": {
    "execution": {
     "iopub.execute_input": "2021-08-20T08:26:03.983288Z",
     "iopub.status.busy": "2021-08-20T08:26:03.972486Z",
     "iopub.status.idle": "2021-08-20T08:26:14.439976Z",
     "shell.execute_reply": "2021-08-20T08:26:14.439393Z",
     "shell.execute_reply.started": "2021-08-15T19:46:21.989536Z"
    },
    "papermill": {
     "duration": 11.163346,
     "end_time": "2021-08-20T08:26:14.440151",
     "exception": false,
     "start_time": "2021-08-20T08:26:03.276805",
     "status": "completed"
    },
    "tags": []
   },
   "outputs": [
    {
     "name": "stdout",
     "output_type": "stream",
     "text": [
      "31/31 [==============================] - 10s 323ms/step - loss: 0.1438 - accuracy: 0.9442\n"
     ]
    },
    {
     "data": {
      "text/plain": [
       "[0.14375635981559753, 0.9442148804664612]"
      ]
     },
     "execution_count": 20,
     "metadata": {},
     "output_type": "execute_result"
    }
   ],
   "source": [
    "model.load_weights(\"oct_xception10per16Layers.h5\")\n",
    "model.evaluate(test_imgs)"
   ]
  },
  {
   "cell_type": "code",
   "execution_count": 21,
   "id": "52b54711",
   "metadata": {
    "execution": {
     "iopub.execute_input": "2021-08-20T08:26:15.775656Z",
     "iopub.status.busy": "2021-08-20T08:26:15.774001Z",
     "iopub.status.idle": "2021-08-20T08:26:20.351042Z",
     "shell.execute_reply": "2021-08-20T08:26:20.350482Z",
     "shell.execute_reply.started": "2021-08-15T19:46:30.650218Z"
    },
    "papermill": {
     "duration": 5.249792,
     "end_time": "2021-08-20T08:26:20.351199",
     "exception": false,
     "start_time": "2021-08-20T08:26:15.101407",
     "status": "completed"
    },
    "tags": []
   },
   "outputs": [
    {
     "data": {
      "text/plain": [
       "array([[8.8283348e-01, 4.8784600e-03, 1.1062596e-01, 1.6620808e-03],\n",
       "       [9.7375676e-05, 1.1792942e-02, 1.9855233e-02, 9.6825445e-01],\n",
       "       [8.9110667e-01, 3.5926172e-05, 1.0885371e-01, 3.7574380e-06],\n",
       "       ...,\n",
       "       [2.0393253e-04, 9.5454007e-01, 3.1983379e-02, 1.3272631e-02],\n",
       "       [9.6804374e-01, 1.6639766e-03, 3.0282319e-02, 9.9932095e-06],\n",
       "       [9.9890888e-01, 2.0440039e-04, 8.8002492e-04, 6.6842408e-06]],\n",
       "      dtype=float32)"
      ]
     },
     "execution_count": 21,
     "metadata": {},
     "output_type": "execute_result"
    }
   ],
   "source": [
    "results = model.predict(test_imgs)\n",
    "results"
   ]
  },
  {
   "cell_type": "code",
   "execution_count": 22,
   "id": "d36d2f09",
   "metadata": {
    "execution": {
     "iopub.execute_input": "2021-08-20T08:26:21.673051Z",
     "iopub.status.busy": "2021-08-20T08:26:21.672284Z",
     "iopub.status.idle": "2021-08-20T08:26:22.371078Z",
     "shell.execute_reply": "2021-08-20T08:26:22.370229Z",
     "shell.execute_reply.started": "2021-08-15T19:46:35.324731Z"
    },
    "papermill": {
     "duration": 1.362174,
     "end_time": "2021-08-20T08:26:22.371240",
     "exception": false,
     "start_time": "2021-08-20T08:26:21.009066",
     "status": "completed"
    },
    "tags": []
   },
   "outputs": [],
   "source": [
    "from sklearn.metrics import classification_report, plot_confusion_matrix, confusion_matrix"
   ]
  },
  {
   "cell_type": "code",
   "execution_count": 23,
   "id": "e5b4a7da",
   "metadata": {
    "execution": {
     "iopub.execute_input": "2021-08-20T08:26:23.987900Z",
     "iopub.status.busy": "2021-08-20T08:26:23.986858Z",
     "iopub.status.idle": "2021-08-20T08:26:24.606664Z",
     "shell.execute_reply": "2021-08-20T08:26:24.607557Z"
    },
    "papermill": {
     "duration": 1.536251,
     "end_time": "2021-08-20T08:26:24.607873",
     "exception": false,
     "start_time": "2021-08-20T08:26:23.071622",
     "status": "completed"
    },
    "tags": []
   },
   "outputs": [],
   "source": [
    "model.save(\"oct_xception10per16Layers.h5\")"
   ]
  },
  {
   "cell_type": "code",
   "execution_count": null,
   "id": "2b328a1b",
   "metadata": {
    "papermill": {
     "duration": 0.66584,
     "end_time": "2021-08-20T08:26:25.938537",
     "exception": false,
     "start_time": "2021-08-20T08:26:25.272697",
     "status": "completed"
    },
    "tags": []
   },
   "outputs": [],
   "source": []
  }
 ],
 "metadata": {
  "kernelspec": {
   "display_name": "Python 3",
   "language": "python",
   "name": "python3"
  },
  "language_info": {
   "codemirror_mode": {
    "name": "ipython",
    "version": 3
   },
   "file_extension": ".py",
   "mimetype": "text/x-python",
   "name": "python",
   "nbconvert_exporter": "python",
   "pygments_lexer": "ipython3",
   "version": "3.7.10"
  },
  "papermill": {
   "default_parameters": {},
   "duration": 1214.322538,
   "end_time": "2021-08-20T08:26:29.283758",
   "environment_variables": {},
   "exception": null,
   "input_path": "__notebook__.ipynb",
   "output_path": "__notebook__.ipynb",
   "parameters": {},
   "start_time": "2021-08-20T08:06:14.961220",
   "version": "2.3.3"
  }
 },
 "nbformat": 4,
 "nbformat_minor": 5
}
