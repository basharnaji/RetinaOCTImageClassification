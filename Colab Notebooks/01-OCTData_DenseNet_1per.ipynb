{
  "nbformat": 4,
  "nbformat_minor": 0,
  "metadata": {
    "accelerator": "GPU",
    "colab": {
      "name": "OCTData_Dense.ipynb",
      "provenance": [],
      "collapsed_sections": [],
      "machine_shape": "hm"
    },
    "kernelspec": {
      "display_name": "Python 3",
      "name": "python3"
    },
    "language_info": {
      "name": "python"
    }
  },
  "cells": [
    {
      "cell_type": "code",
      "metadata": {
        "colab": {
          "base_uri": "https://localhost:8080/"
        },
        "id": "w6dwbr1jqMLs",
        "outputId": "6fb09eb3-ce67-4c11-f67d-93b683942728"
      },
      "source": [
        "from google.colab import drive\n",
        "drive.mount('/content/drive')\n",
        "import os\n",
        "os.chdir (\"/content/drive/MyDrive/FourthBrain/Capstone Samsung OCT/Data/OCT2017\")"
      ],
      "execution_count": null,
      "outputs": [
        {
          "output_type": "stream",
          "text": [
            "Mounted at /content/drive\n"
          ],
          "name": "stdout"
        }
      ]
    },
    {
      "cell_type": "code",
      "metadata": {
        "id": "rizqgQXABrp5"
      },
      "source": [
        "import pandas as pd\n",
        "import numpy as np"
      ],
      "execution_count": null,
      "outputs": []
    },
    {
      "cell_type": "code",
      "metadata": {
        "id": "1pthLQszqd2N"
      },
      "source": [
        "train_dir = os.getcwd() + \"/train/\"\n",
        "valid_dir = os.getcwd() + \"/val/\"\n",
        "test_dir = os.getcwd() + \"/test/\""
      ],
      "execution_count": null,
      "outputs": []
    },
    {
      "cell_type": "code",
      "metadata": {
        "id": "lfJdsKndCa6q"
      },
      "source": [
        "classes = ['NORMAL', 'CNV', 'DME', 'DRUSEN']\n",
        "cols = [x.lower() for x in classes]\n",
        "dirs = [train_dir, valid_dir, test_dir]\n",
        "label = {0: 'normal', 1: 'cnv', 2: 'dme', 3: 'drusen'}\n",
        "\n",
        "REGEN = False # if we should read the directory structre, if False then use the CSV files already saved"
      ],
      "execution_count": null,
      "outputs": []
    },
    {
      "cell_type": "code",
      "metadata": {
        "id": "zuK5H2iyCQ6R"
      },
      "source": [
        "def create_df (path, classes=classes):\n",
        "  df = pd.DataFrame(columns=['filename', 'normal', 'cnv', 'dme', 'drusen'])\n",
        "  for sub_dir in classes:\n",
        "    condition = {'normal': 0, 'cnv': 0, 'dme':0, 'drusen': 0}\n",
        "    files = os.listdir(path + sub_dir)\n",
        "    if (sub_dir== 'NORMAL'):\n",
        "      condition['normal'] = 1\n",
        "    elif (sub_dir == 'CNV'):\n",
        "      condition['cnv'] = 1\n",
        "    elif (sub_dir == 'DME'):\n",
        "      condition['dme'] = 1\n",
        "    else:\n",
        "      condition['drusen']= 1\n",
        "    for f in files:\n",
        "      df = df.append({'filename': path +  sub_dir  + \"/\" + f, \n",
        "                      'normal': condition['normal'], \n",
        "                      'cnv': condition['cnv'],\n",
        "                      'dme': condition['dme'],\n",
        "                      'drusen': condition['drusen']}, ignore_index=True)\n",
        "  return df"
      ],
      "execution_count": null,
      "outputs": []
    },
    {
      "cell_type": "code",
      "metadata": {
        "id": "_aVwv4PHw_iS"
      },
      "source": [
        "# Generting the DataFrames of the filenames\n",
        "# this is primarily used so we can sub-sample files easier for the different training strategies\n",
        "if (REGEN):\n",
        "  train_df = create_df(train_dir)\n",
        "  valid_df = create_df(valid_dir)\n",
        "  test_df = create_df(test_dir)\n",
        "  train_df.to_csv(\"train_data.csv\")\n",
        "  valid_df.to_csv(\"valid_data.csv\")\n",
        "  test_df.to_csv(\"test_data.csv\")\n",
        "else:\n",
        "  train_df = pd.read_csv(\"train_data.csv\")\n",
        "  valid_df = pd.read_csv(\"valid_data.csv\")\n",
        "  test_df = pd.read_csv(\"test_data.csv\")"
      ],
      "execution_count": null,
      "outputs": []
    },
    {
      "cell_type": "code",
      "metadata": {
        "colab": {
          "base_uri": "https://localhost:8080/"
        },
        "id": "FktmTKV-xdHP",
        "outputId": "54514150-1333-4b75-cfb2-f4238be86908"
      },
      "source": [
        "print (\"Training Data: \", train_df.shape)\n",
        "print (\"Validation Data: \", valid_df.shape)\n",
        "print (\"Test Data: \", test_df.shape)"
      ],
      "execution_count": null,
      "outputs": [
        {
          "output_type": "stream",
          "text": [
            "Training Data:  (83484, 6)\n",
            "Validation Data:  (32, 6)\n",
            "Test Data:  (968, 6)\n"
          ],
          "name": "stdout"
        }
      ]
    },
    {
      "cell_type": "code",
      "metadata": {
        "colab": {
          "base_uri": "https://localhost:8080/"
        },
        "id": "2igt4JuECEAB",
        "outputId": "b49b96d3-d8d9-4380-be48-cbe6f1fb9918"
      },
      "source": [
        "# Printing out the # of samples for each subsample percentage \n",
        "print (\"Trainig Data percentages:\")\n",
        "print (\" 1% ==> \", int(.01 * train_df.shape[0]))\n",
        "print (\" 5% ==> \", int(.05 * train_df.shape[0]))\n",
        "print (\"10% ==> \", int(.1  * train_df.shape[0] ))\n",
        "print (\"25% ==> \", int(.25 * train_df.shape[0]))\n",
        "print (\"75% ==> \", int(.75 * train_df.shape[0]))\n",
        "print (\"90% ==> \", int(.9  * train_df.shape[0]))\n",
        "print (\"98% ==> \", int(.98 * train_df.shape[0]))"
      ],
      "execution_count": null,
      "outputs": [
        {
          "output_type": "stream",
          "text": [
            "Trainig Data percentages:\n",
            " 1% ==>  834\n",
            " 5% ==>  4174\n",
            "10% ==>  8348\n",
            "25% ==>  20871\n",
            "75% ==>  62613\n",
            "90% ==>  75135\n",
            "98% ==>  81814\n"
          ],
          "name": "stdout"
        }
      ]
    },
    {
      "cell_type": "code",
      "metadata": {
        "colab": {
          "base_uri": "https://localhost:8080/"
        },
        "id": "_Mb1DIbnJ0j8",
        "outputId": "3e72cf98-da90-4390-c319-f4b93268951f"
      },
      "source": [
        "# Sampling 1% of the data\n",
        "sample = train_df.sample(frac=0.01, random_state=10, axis=0)\n",
        "sample.shape"
      ],
      "execution_count": null,
      "outputs": [
        {
          "output_type": "execute_result",
          "data": {
            "text/plain": [
              "(835, 6)"
            ]
          },
          "metadata": {
            "tags": []
          },
          "execution_count": 10
        }
      ]
    },
    {
      "cell_type": "code",
      "metadata": {
        "id": "fkGtV7ovtI5R"
      },
      "source": [
        "# determine class weights to feed into neural network during training\n",
        "def get_classweight(df):\n",
        "  total = df.shape[0]\n",
        "  num_norm = df['normal'].sum()\n",
        "  num_cnv = df['cnv'].sum()\n",
        "  num_dme = df['dme'].sum()\n",
        "  num_drusen = df['drusen'].sum()\n",
        "  norm_weight = (1/num_norm) * (total/4)\n",
        "  norm_cnv = (1/num_cnv) * (total/4)\n",
        "  norm_dme = (1/num_dme) * (total/4)\n",
        "  norm_drusen = (1/num_drusen) * (total/4)\n",
        "  class_weight = {0 : norm_weight, 1: norm_cnv,\n",
        "                  2 : norm_dme, 3: norm_drusen}\n",
        "  return class_weight"
      ],
      "execution_count": null,
      "outputs": []
    },
    {
      "cell_type": "code",
      "metadata": {
        "colab": {
          "base_uri": "https://localhost:8080/"
        },
        "id": "QHQtQ46JopAm",
        "outputId": "4ebfe029-12b1-45c6-fb69-9c67036145d7"
      },
      "source": [
        "class_weight = get_classweight(sample)\n",
        "class_weight"
      ],
      "execution_count": null,
      "outputs": [
        {
          "output_type": "execute_result",
          "data": {
            "text/plain": [
              "{0: 0.8186274509803921,\n",
              " 1: 0.5537135278514589,\n",
              " 2: 2.0072115384615388,\n",
              " 3: 2.1085858585858586}"
            ]
          },
          "metadata": {
            "tags": []
          },
          "execution_count": 12
        }
      ]
    },
    {
      "cell_type": "code",
      "metadata": {
        "id": "MqsbMTCkUkZi"
      },
      "source": [
        "import tensorflow as tf\n",
        "from tensorflow import keras\n",
        "import tensorflow.keras.applications as app\n",
        "from tensorflow.keras.preprocessing.image import ImageDataGenerator"
      ],
      "execution_count": null,
      "outputs": []
    },
    {
      "cell_type": "code",
      "metadata": {
        "colab": {
          "base_uri": "https://localhost:8080/"
        },
        "id": "Ob-Zk-ynU-zz",
        "outputId": "43ad7b49-2834-4119-cb2b-288c290a5209"
      },
      "source": [
        "train_image_datagen = ImageDataGenerator(rotation_range=90, width_shift_range=[-.1,.1], height_shift_range=[-.1,.1],\n",
        "                                         shear_range=0.25, zoom_range=0.3, horizontal_flip=True,\n",
        "                                         vertical_flip=True, rescale = 1./255.)\n",
        "\n",
        "# Setting the imgages to come from the dataframe where we specify the filenames and columns to use for \"labels\"\n",
        "train_imgs = train_image_datagen.flow_from_dataframe(sample, directory=None, x_col='filename', y_col=cols, validate_filenames=False,\n",
        "                                        class_mode=\"raw\", target_size=(224,224), batch_size=32, seed=10)\n",
        "valid_imgs = train_image_datagen.flow_from_dataframe(valid_df, directory=None, x_col='filename', y_col=cols, validate_filenames=False,\n",
        "                                        class_mode=\"raw\", target_size=(224,224), batch_size=16, seed=10)"
      ],
      "execution_count": null,
      "outputs": [
        {
          "output_type": "stream",
          "text": [
            "Found 835 non-validated image filenames.\n",
            "Found 32 non-validated image filenames.\n"
          ],
          "name": "stdout"
        }
      ]
    },
    {
      "cell_type": "code",
      "metadata": {
        "colab": {
          "base_uri": "https://localhost:8080/"
        },
        "id": "6p30BeS6ZnBS",
        "outputId": "89d9c0ef-bc92-4bd3-9706-26b32e097ec3"
      },
      "source": [
        "pre_process = keras.applications.densenet.preprocess_input\n",
        "base_model = app.densenet.DenseNet121 (include_top=False, weights=\"imagenet\", input_shape=(224,224,3), pooling=None)\n",
        "base_model.trainable = False\n",
        "\n",
        "# This is a must for Densenet as per documenatation, otherwise you get all kinds of errors when building model\n",
        "input = keras.layers.Input(shape=(224,224,3))\n",
        "x = pre_process(input)\n",
        "\n",
        "# Creating DenseNet model\n",
        "x = base_model(x)\n",
        "\n",
        "#Layers added to Densenet\n",
        "y = keras.layers.Conv2D(512, 3, padding=\"same\", activation=\"ReLU\")(x)\n",
        "y = keras.layers.BatchNormalization()(y)\n",
        "x = keras.layers.Conv2D(512, 3, padding=\"same\", activation=\"ReLU\")(y)\n",
        "x = keras.layers.BatchNormalization()(x)\n",
        "x = keras.layers.Concatenate()([x,y])\n",
        "x = keras.layers.MaxPooling2D(2)(x)\n",
        "y = keras.layers.Conv2D(512, 3, padding=\"same\", activation=\"ReLU\")(x)\n",
        "y = keras.layers.BatchNormalization()(y)\n",
        "x = keras.layers.Conv2D(512, 3, padding=\"same\", activation=\"ReLU\")(y)\n",
        "x = keras.layers.BatchNormalization()(x)\n",
        "x = keras.layers.Concatenate()([x,y])\n",
        "x = keras.layers.MaxPooling2D(2)(x)\n",
        "y = keras.layers.Conv2D(512, 3, padding=\"same\", activation=\"ReLU\")(x)\n",
        "y = keras.layers.BatchNormalization()(y)\n",
        "x = keras.layers.Conv2D(512, 3, padding=\"same\", activation=\"ReLU\")(y)\n",
        "x = keras.layers.BatchNormalization()(x)\n",
        "x = keras.layers.Concatenate()([x,y])\n",
        "x = keras.layers.GlobalAveragePooling2D()(x)\n",
        "# Output layer for the 4 classes we are dealing with\n",
        "output = keras.layers.Dense(4, activation=\"softmax\")(x)\n",
        "\n",
        "model = keras.Model(inputs=input, outputs=output)\n",
        "\n",
        "model.summary()"
      ],
      "execution_count": null,
      "outputs": [
        {
          "output_type": "stream",
          "text": [
            "Downloading data from https://storage.googleapis.com/tensorflow/keras-applications/densenet/densenet121_weights_tf_dim_ordering_tf_kernels_notop.h5\n",
            "29089792/29084464 [==============================] - 0s 0us/step\n",
            "Model: \"model\"\n",
            "__________________________________________________________________________________________________\n",
            "Layer (type)                    Output Shape         Param #     Connected to                     \n",
            "==================================================================================================\n",
            "input_2 (InputLayer)            [(None, 224, 224, 3) 0                                            \n",
            "__________________________________________________________________________________________________\n",
            "tf.math.truediv (TFOpLambda)    (None, 224, 224, 3)  0           input_2[0][0]                    \n",
            "__________________________________________________________________________________________________\n",
            "tf.nn.bias_add (TFOpLambda)     (None, 224, 224, 3)  0           tf.math.truediv[0][0]            \n",
            "__________________________________________________________________________________________________\n",
            "tf.math.truediv_1 (TFOpLambda)  (None, 224, 224, 3)  0           tf.nn.bias_add[0][0]             \n",
            "__________________________________________________________________________________________________\n",
            "densenet121 (Functional)        (None, 7, 7, 1024)   7037504     tf.math.truediv_1[0][0]          \n",
            "__________________________________________________________________________________________________\n",
            "conv2d (Conv2D)                 (None, 7, 7, 512)    4719104     densenet121[0][0]                \n",
            "__________________________________________________________________________________________________\n",
            "batch_normalization (BatchNorma (None, 7, 7, 512)    2048        conv2d[0][0]                     \n",
            "__________________________________________________________________________________________________\n",
            "conv2d_1 (Conv2D)               (None, 7, 7, 512)    2359808     batch_normalization[0][0]        \n",
            "__________________________________________________________________________________________________\n",
            "batch_normalization_1 (BatchNor (None, 7, 7, 512)    2048        conv2d_1[0][0]                   \n",
            "__________________________________________________________________________________________________\n",
            "concatenate (Concatenate)       (None, 7, 7, 1024)   0           batch_normalization_1[0][0]      \n",
            "                                                                 batch_normalization[0][0]        \n",
            "__________________________________________________________________________________________________\n",
            "max_pooling2d (MaxPooling2D)    (None, 3, 3, 1024)   0           concatenate[0][0]                \n",
            "__________________________________________________________________________________________________\n",
            "conv2d_2 (Conv2D)               (None, 3, 3, 512)    4719104     max_pooling2d[0][0]              \n",
            "__________________________________________________________________________________________________\n",
            "batch_normalization_2 (BatchNor (None, 3, 3, 512)    2048        conv2d_2[0][0]                   \n",
            "__________________________________________________________________________________________________\n",
            "conv2d_3 (Conv2D)               (None, 3, 3, 512)    2359808     batch_normalization_2[0][0]      \n",
            "__________________________________________________________________________________________________\n",
            "batch_normalization_3 (BatchNor (None, 3, 3, 512)    2048        conv2d_3[0][0]                   \n",
            "__________________________________________________________________________________________________\n",
            "concatenate_1 (Concatenate)     (None, 3, 3, 1024)   0           batch_normalization_3[0][0]      \n",
            "                                                                 batch_normalization_2[0][0]      \n",
            "__________________________________________________________________________________________________\n",
            "max_pooling2d_1 (MaxPooling2D)  (None, 1, 1, 1024)   0           concatenate_1[0][0]              \n",
            "__________________________________________________________________________________________________\n",
            "conv2d_4 (Conv2D)               (None, 1, 1, 512)    4719104     max_pooling2d_1[0][0]            \n",
            "__________________________________________________________________________________________________\n",
            "batch_normalization_4 (BatchNor (None, 1, 1, 512)    2048        conv2d_4[0][0]                   \n",
            "__________________________________________________________________________________________________\n",
            "conv2d_5 (Conv2D)               (None, 1, 1, 512)    2359808     batch_normalization_4[0][0]      \n",
            "__________________________________________________________________________________________________\n",
            "batch_normalization_5 (BatchNor (None, 1, 1, 512)    2048        conv2d_5[0][0]                   \n",
            "__________________________________________________________________________________________________\n",
            "concatenate_2 (Concatenate)     (None, 1, 1, 1024)   0           batch_normalization_5[0][0]      \n",
            "                                                                 batch_normalization_4[0][0]      \n",
            "__________________________________________________________________________________________________\n",
            "global_average_pooling2d (Globa (None, 1024)         0           concatenate_2[0][0]              \n",
            "__________________________________________________________________________________________________\n",
            "dense (Dense)                   (None, 4)            4100        global_average_pooling2d[0][0]   \n",
            "==================================================================================================\n",
            "Total params: 28,290,628\n",
            "Trainable params: 21,246,980\n",
            "Non-trainable params: 7,043,648\n",
            "__________________________________________________________________________________________________\n"
          ],
          "name": "stdout"
        }
      ]
    },
    {
      "cell_type": "code",
      "metadata": {
        "id": "JOCfZn7S1KOo"
      },
      "source": [
        "# This code did not work, it caused I/O Error 5:\n",
        "# model.compile(optimizer=keras.optimizers.Adam(learning_rate=1e-3), loss='categorical_crossentropy', metrics='accuracy')\n",
        "model.compile(optimizer=keras.optimizers.Adam(), loss='categorical_crossentropy', metrics='accuracy')"
      ],
      "execution_count": null,
      "outputs": []
    },
    {
      "cell_type": "code",
      "metadata": {
        "id": "cwq3MmVT2viJ"
      },
      "source": [
        "import datetime\n",
        "%load_ext tensorboard\n",
        "%reload_ext tensorboard"
      ],
      "execution_count": null,
      "outputs": []
    },
    {
      "cell_type": "code",
      "metadata": {
        "id": "9Hbqts1h2qmI"
      },
      "source": [
        "if not (os.path.exists('./logs/fit/')):\n",
        "  os.mkdir('./logs/fit/')\n",
        "\n",
        "log_dir = \"logs/fit/\" + datetime.datetime.now().strftime(\"%Y%m%d-%H%M%S\")\n",
        "\n",
        "# Creating a checkpoint to save the best model so that we can reload it once training is complete\n",
        "checkpoint_cb = keras.callbacks.ModelCheckpoint(\"oct_densenet.h5\", save_best_only=True)\n",
        "# Adding an an early stop callback to avoid overfitting in case the model is not improving after 5 consescutive epochs\n",
        "earlystop_cb = keras.callbacks.EarlyStopping(patience=10, restore_best_weights=True)\n",
        "# Tensorboard callback to view the training & validation curves\n",
        "tensorboard_cb = tf.keras.callbacks.TensorBoard(log_dir=log_dir, histogram_freq=1)"
      ],
      "execution_count": null,
      "outputs": []
    },
    {
      "cell_type": "code",
      "metadata": {
        "colab": {
          "background_save": true,
          "base_uri": "https://localhost:8080/"
        },
        "id": "30WT6VAw2BTh",
        "outputId": "82f8fe21-eb98-4eb6-c4f1-f944472d71c9"
      },
      "source": [
        "history = model.fit(train_imgs,  steps_per_epoch=15, epochs=100, verbose=1, validation_data=valid_imgs, \n",
        "                    class_weight=class_weight, callbacks=[checkpoint_cb]) #earlystop_cb]) # tensorboard_cb])"
      ],
      "execution_count": null,
      "outputs": [
        {
          "output_type": "stream",
          "text": [
            "WARNING:tensorflow:From /usr/local/lib/python3.7/dist-packages/tensorflow/python/ops/array_ops.py:5049: calling gather (from tensorflow.python.ops.array_ops) with validate_indices is deprecated and will be removed in a future version.\n",
            "Instructions for updating:\n",
            "The `validate_indices` argument has no effect. Indices are always validated on CPU and never validated on GPU.\n",
            "Epoch 1/50\n",
            "35/35 [==============================] - 239s 6s/step - loss: 1.9115 - accuracy: 0.3102 - val_loss: 13.8577 - val_accuracy: 0.2500\n",
            "Epoch 2/50\n",
            "35/35 [==============================] - 190s 5s/step - loss: 1.4232 - accuracy: 0.2994 - val_loss: 6.3973 - val_accuracy: 0.2500\n",
            "Epoch 3/50\n",
            "35/35 [==============================] - 186s 5s/step - loss: 1.4515 - accuracy: 0.2192 - val_loss: 2.2953 - val_accuracy: 0.2500\n",
            "Epoch 4/50\n",
            "35/35 [==============================] - 185s 5s/step - loss: 1.4564 - accuracy: 0.2635 - val_loss: 2.4031 - val_accuracy: 0.2812\n",
            "Epoch 5/50\n",
            "35/35 [==============================] - 191s 5s/step - loss: 1.3998 - accuracy: 0.2922 - val_loss: 1.9340 - val_accuracy: 0.3438\n",
            "Epoch 6/50\n",
            "35/35 [==============================] - 191s 5s/step - loss: 1.3982 - accuracy: 0.3892 - val_loss: 1.9271 - val_accuracy: 0.1875\n",
            "Epoch 7/50\n",
            "35/35 [==============================] - 191s 5s/step - loss: 1.4325 - accuracy: 0.3653 - val_loss: 1.8104 - val_accuracy: 0.2188\n",
            "Epoch 8/50\n",
            "35/35 [==============================] - 195s 6s/step - loss: 1.4033 - accuracy: 0.4048 - val_loss: 1.5719 - val_accuracy: 0.3438\n",
            "Epoch 9/50\n",
            "35/35 [==============================] - 191s 5s/step - loss: 1.3811 - accuracy: 0.4024 - val_loss: 3.0190 - val_accuracy: 0.2500\n",
            "Epoch 10/50\n",
            "35/35 [==============================] - 190s 5s/step - loss: 1.3978 - accuracy: 0.3892 - val_loss: 5.2233 - val_accuracy: 0.2500\n",
            "Epoch 11/50\n",
            "35/35 [==============================] - 191s 5s/step - loss: 1.3905 - accuracy: 0.3988 - val_loss: 16.9116 - val_accuracy: 0.3125\n",
            "Epoch 12/50\n",
            "35/35 [==============================] - 193s 5s/step - loss: 1.4257 - accuracy: 0.4347 - val_loss: 9.5483 - val_accuracy: 0.2500\n",
            "Epoch 13/50\n",
            "35/35 [==============================] - 200s 6s/step - loss: 1.4161 - accuracy: 0.4263 - val_loss: 3.6435 - val_accuracy: 0.1875\n",
            "Epoch 14/50\n",
            "35/35 [==============================] - 198s 6s/step - loss: 1.3935 - accuracy: 0.3593 - val_loss: 2.6286 - val_accuracy: 0.2188\n",
            "Epoch 15/50\n",
            "35/35 [==============================] - 201s 6s/step - loss: 1.3657 - accuracy: 0.4479 - val_loss: 1.7513 - val_accuracy: 0.2500\n",
            "Epoch 16/50\n",
            "35/35 [==============================] - 198s 6s/step - loss: 1.3588 - accuracy: 0.4311 - val_loss: 1.4417 - val_accuracy: 0.3438\n",
            "Epoch 17/50\n",
            "35/35 [==============================] - 205s 6s/step - loss: 1.3491 - accuracy: 0.4228 - val_loss: 3.1244 - val_accuracy: 0.2812\n",
            "Epoch 18/50\n",
            "35/35 [==============================] - 202s 6s/step - loss: 1.3669 - accuracy: 0.4419 - val_loss: 2.2666 - val_accuracy: 0.1562\n",
            "Epoch 19/50\n",
            "35/35 [==============================] - 205s 6s/step - loss: 1.3532 - accuracy: 0.4263 - val_loss: 1.3391 - val_accuracy: 0.4375\n",
            "Epoch 20/50\n",
            "35/35 [==============================] - 201s 6s/step - loss: 1.3156 - accuracy: 0.4731 - val_loss: 2.0622 - val_accuracy: 0.3125\n",
            "Epoch 21/50\n",
            "35/35 [==============================] - 202s 6s/step - loss: 1.3331 - accuracy: 0.4287 - val_loss: 1.1647 - val_accuracy: 0.3750\n",
            "Epoch 22/50\n",
            "35/35 [==============================] - 200s 6s/step - loss: 1.3490 - accuracy: 0.4623 - val_loss: 5.4681 - val_accuracy: 0.2500\n",
            "Epoch 23/50\n",
            "35/35 [==============================] - 204s 6s/step - loss: 1.3356 - accuracy: 0.4611 - val_loss: 1.6531 - val_accuracy: 0.1562\n",
            "Epoch 24/50\n",
            "35/35 [==============================] - 200s 6s/step - loss: 1.3240 - accuracy: 0.4850 - val_loss: 2.1749 - val_accuracy: 0.2500\n",
            "Epoch 25/50\n",
            "35/35 [==============================] - 199s 6s/step - loss: 1.3021 - accuracy: 0.4479 - val_loss: 1.4945 - val_accuracy: 0.3750\n",
            "Epoch 26/50\n",
            "35/35 [==============================] - 194s 6s/step - loss: 1.3246 - accuracy: 0.4503 - val_loss: 1.0374 - val_accuracy: 0.4688\n",
            "Epoch 27/50\n",
            "35/35 [==============================] - 192s 5s/step - loss: 1.3646 - accuracy: 0.4180 - val_loss: 3.3221 - val_accuracy: 0.2500\n",
            "Epoch 28/50\n",
            "35/35 [==============================] - 188s 5s/step - loss: 1.3506 - accuracy: 0.4359 - val_loss: 2.5972 - val_accuracy: 0.2812\n",
            "Epoch 29/50\n",
            "35/35 [==============================] - 189s 5s/step - loss: 1.3531 - accuracy: 0.4766 - val_loss: 2.5631 - val_accuracy: 0.2500\n",
            "Epoch 30/50\n",
            "35/35 [==============================] - 190s 5s/step - loss: 1.3256 - accuracy: 0.4168 - val_loss: 1.5568 - val_accuracy: 0.3125\n",
            "Epoch 31/50\n",
            "35/35 [==============================] - 188s 5s/step - loss: 1.3732 - accuracy: 0.4671 - val_loss: 2.1791 - val_accuracy: 0.2812\n",
            "Epoch 32/50\n",
            "35/35 [==============================] - 190s 5s/step - loss: 1.2930 - accuracy: 0.4395 - val_loss: 1.7376 - val_accuracy: 0.2812\n",
            "Epoch 33/50\n",
            "35/35 [==============================] - 188s 5s/step - loss: 1.3455 - accuracy: 0.4443 - val_loss: 1.4155 - val_accuracy: 0.4375\n",
            "Epoch 34/50\n",
            "35/35 [==============================] - 189s 5s/step - loss: 1.2998 - accuracy: 0.4695 - val_loss: 1.2749 - val_accuracy: 0.4062\n",
            "Epoch 35/50\n",
            "35/35 [==============================] - 188s 5s/step - loss: 1.3225 - accuracy: 0.4790 - val_loss: 1.4385 - val_accuracy: 0.2812\n",
            "Epoch 36/50\n",
            "35/35 [==============================] - 189s 5s/step - loss: 1.3499 - accuracy: 0.4527 - val_loss: 3.1634 - val_accuracy: 0.2500\n"
          ],
          "name": "stdout"
        }
      ]
    },
    {
      "cell_type": "code",
      "metadata": {
        "colab": {
          "background_save": true,
          "base_uri": "https://localhost:8080/"
        },
        "id": "0k7PhzILm5J_",
        "outputId": "c15d0b78-99bb-406e-9fe7-d7b9b128ff15"
      },
      "source": [
        "sample_test = test_df.sample(frac=0.5, random_state=10, axis=0)\n",
        "test_image_datagen = ImageDataGenerator( rescale = 1./255.)\n",
        "\n",
        "test_imgs = test_image_datagen.flow_from_dataframe(sample_test, directory=None, x_col='filename', y_col=cols, validate_filenames=False,\n",
        "                                        class_mode=\"raw\", target_size=(224,224), batch_size=32)"
      ],
      "execution_count": null,
      "outputs": [
        {
          "output_type": "stream",
          "text": [
            "Found 484 non-validated image filenames.\n"
          ],
          "name": "stdout"
        }
      ]
    },
    {
      "cell_type": "code",
      "metadata": {
        "colab": {
          "background_save": true,
          "base_uri": "https://localhost:8080/"
        },
        "id": "xYiqh7s_3P4u",
        "outputId": "57cc4dfb-9b11-4a5b-ca48-cdc8312c00ea"
      },
      "source": [
        "model.load_weights(\"oct_densenet.h5\")\n",
        "model.evaluate(test_imgs)"
      ],
      "execution_count": null,
      "outputs": [
        {
          "output_type": "stream",
          "text": [
            "16/16 [==============================] - 115s 7s/step - loss: 1.2408 - accuracy: 0.4690\n"
          ],
          "name": "stdout"
        },
        {
          "output_type": "execute_result",
          "data": {
            "text/plain": [
              "[1.2407846450805664, 0.46900826692581177]"
            ]
          },
          "metadata": {
            "tags": []
          },
          "execution_count": 0
        }
      ]
    },
    {
      "cell_type": "code",
      "metadata": {
        "colab": {
          "background_save": true
        },
        "id": "Jn702Y1onYo_"
      },
      "source": [
        "results = model.predict(test_imgs)\n"
      ],
      "execution_count": null,
      "outputs": []
    },
    {
      "cell_type": "code",
      "metadata": {
        "colab": {
          "background_save": true
        },
        "id": "EgRltgJUqtOU"
      },
      "source": [
        "choice = np.argmax(results, axis=1) \n",
        "true_label = sample_test.iloc[:,2:]\n",
        "true_label = np.argmax(np.array(true_label), axis=1) "
      ],
      "execution_count": null,
      "outputs": []
    },
    {
      "cell_type": "code",
      "metadata": {
        "colab": {
          "background_save": true,
          "base_uri": "https://localhost:8080/"
        },
        "id": "4FLCdQzdoWjR",
        "outputId": "7cb90f66-23d6-4b6f-fa9c-89f53f11add3"
      },
      "source": [
        "from sklearn.metrics import classification_report, plot_confusion_matrix, confusion_matrix\n",
        "\n",
        "print(classification_report(true_label, choice, target_names=[label[i] for i in label]))"
      ],
      "execution_count": null,
      "outputs": [
        {
          "output_type": "stream",
          "text": [
            "              precision    recall  f1-score   support\n",
            "\n",
            "      normal       0.27      0.39      0.32       126\n",
            "         cnv       0.26      0.48      0.33       123\n",
            "         dme       0.27      0.05      0.09       128\n",
            "      drusen       0.23      0.10      0.14       107\n",
            "\n",
            "    accuracy                           0.26       484\n",
            "   macro avg       0.26      0.26      0.22       484\n",
            "weighted avg       0.26      0.26      0.22       484\n",
            "\n"
          ],
          "name": "stdout"
        }
      ]
    },
    {
      "cell_type": "code",
      "metadata": {
        "colab": {
          "background_save": true
        },
        "id": "Aqsf0nFA9c7u"
      },
      "source": [
        ""
      ],
      "execution_count": null,
      "outputs": []
    }
  ]
}