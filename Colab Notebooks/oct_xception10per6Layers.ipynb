{
 "cells": [
  {
   "cell_type": "markdown",
   "id": "cd0a8bcf",
   "metadata": {
    "papermill": {
     "duration": 0.018432,
     "end_time": "2021-08-18T08:14:14.283412",
     "exception": false,
     "start_time": "2021-08-18T08:14:14.264980",
     "status": "completed"
    },
    "tags": []
   },
   "source": [
    "# OCT image classification - Xception"
   ]
  },
  {
   "cell_type": "markdown",
   "id": "061af94d",
   "metadata": {
    "papermill": {
     "duration": 0.016966,
     "end_time": "2021-08-18T08:14:14.317839",
     "exception": false,
     "start_time": "2021-08-18T08:14:14.300873",
     "status": "completed"
    },
    "tags": []
   },
   "source": [
    "Experiment with the number of trainable layers. Use 10% of train data"
   ]
  },
  {
   "cell_type": "code",
   "execution_count": 1,
   "id": "89ee68e5",
   "metadata": {
    "_cell_guid": "b1076dfc-b9ad-4769-8c92-a6c4dae69d19",
    "_uuid": "8f2839f25d086af736a60e9eeb907d3b93b6e0e5",
    "execution": {
     "iopub.execute_input": "2021-08-18T08:14:14.357429Z",
     "iopub.status.busy": "2021-08-18T08:14:14.355832Z",
     "iopub.status.idle": "2021-08-18T08:14:14.366233Z",
     "shell.execute_reply": "2021-08-18T08:14:14.366670Z",
     "shell.execute_reply.started": "2021-08-18T08:01:41.895568Z"
    },
    "papermill": {
     "duration": 0.031855,
     "end_time": "2021-08-18T08:14:14.366879",
     "exception": false,
     "start_time": "2021-08-18T08:14:14.335024",
     "status": "completed"
    },
    "tags": []
   },
   "outputs": [],
   "source": [
    "# This Python 3 environment comes with many helpful analytics libraries installed\n",
    "# It is defined by the kaggle/python Docker image: https://github.com/kaggle/docker-python\n",
    "# For example, here's several helpful packages to load\n",
    "\n",
    "import numpy as np # linear algebra\n",
    "import pandas as pd # data processing, CSV file I/O (e.g. pd.read_csv)\n",
    "\n",
    "# Input data files are available in the read-only \"../input/\" directory\n",
    "# For example, running this (by clicking run or pressing Shift+Enter) will list all files under the input directory\n",
    "\n",
    "import os\n",
    "#for dirname, _, filenames in os.walk('/kaggle/input'):\n",
    "# for filename in filenames:\n",
    "#       print(os.path.join(dirname, filename))\n",
    "\n",
    "# You can write up to 20GB to the current directory (/kaggle/working/) that gets preserved as output when you create a version using \"Save & Run All\" \n",
    "# You can also write temporary files to /kaggle/temp/, but they won't be saved outside of the current session"
   ]
  },
  {
   "cell_type": "code",
   "execution_count": 2,
   "id": "dbc498f7",
   "metadata": {
    "execution": {
     "iopub.execute_input": "2021-08-18T08:14:14.405232Z",
     "iopub.status.busy": "2021-08-18T08:14:14.404551Z",
     "iopub.status.idle": "2021-08-18T08:14:14.407357Z",
     "shell.execute_reply": "2021-08-18T08:14:14.406959Z",
     "shell.execute_reply.started": "2021-08-18T08:01:42.432469Z"
    },
    "papermill": {
     "duration": 0.023336,
     "end_time": "2021-08-18T08:14:14.407479",
     "exception": false,
     "start_time": "2021-08-18T08:14:14.384143",
     "status": "completed"
    },
    "tags": []
   },
   "outputs": [],
   "source": [
    "image_path = '/kaggle/input/kermany2018/oct2017/OCT2017 '\n",
    "oct_csv_path = '/kaggle/input/oct-csv/'\n",
    "train_dir = image_path + \"/train/\"\n",
    "valid_dir = image_path + \"/val/\"\n",
    "test_dir = image_path + \"/test/\""
   ]
  },
  {
   "cell_type": "code",
   "execution_count": 3,
   "id": "49c5c196",
   "metadata": {
    "execution": {
     "iopub.execute_input": "2021-08-18T08:14:14.446324Z",
     "iopub.status.busy": "2021-08-18T08:14:14.445608Z",
     "iopub.status.idle": "2021-08-18T08:14:14.448234Z",
     "shell.execute_reply": "2021-08-18T08:14:14.447834Z",
     "shell.execute_reply.started": "2021-08-18T08:01:43.092651Z"
    },
    "papermill": {
     "duration": 0.02386,
     "end_time": "2021-08-18T08:14:14.448339",
     "exception": false,
     "start_time": "2021-08-18T08:14:14.424479",
     "status": "completed"
    },
    "tags": []
   },
   "outputs": [],
   "source": [
    "classes = ['CNV', 'DME', 'DRUSEN', 'NORMAL']\n",
    "cols = [x.upper() for x in classes]\n",
    "dirs = [train_dir, valid_dir, test_dir]\n",
    "label = {0: 'CNV', 1: 'DME', 2: 'DRUSEN', 3: 'NORMAL'}\n",
    "IMG_SIZE = 224\n",
    "\n",
    "# if we should read the directory structre, if False then use the CSV files already saved\n",
    "# Once you generate the csv files you should probably download them and re-upload into kaggle and set this to FALSE\n",
    "REGEN = False"
   ]
  },
  {
   "cell_type": "code",
   "execution_count": 4,
   "id": "1909b67f",
   "metadata": {
    "execution": {
     "iopub.execute_input": "2021-08-18T08:14:14.489461Z",
     "iopub.status.busy": "2021-08-18T08:14:14.488701Z",
     "iopub.status.idle": "2021-08-18T08:14:14.491244Z",
     "shell.execute_reply": "2021-08-18T08:14:14.490838Z",
     "shell.execute_reply.started": "2021-08-18T08:01:46.128150Z"
    },
    "papermill": {
     "duration": 0.025876,
     "end_time": "2021-08-18T08:14:14.491347",
     "exception": false,
     "start_time": "2021-08-18T08:14:14.465471",
     "status": "completed"
    },
    "tags": []
   },
   "outputs": [],
   "source": [
    "def create_df (path, classes=classes):\n",
    "  df = pd.DataFrame(columns=['FILENAME', 'CNV', 'DME', 'DRUSEN', 'NORMAL'])\n",
    "  for sub_dir in classes:\n",
    "    condition = {'NORMAL': 0, 'CNV': 0, 'DME':0, 'DRUSEN': 0}\n",
    "    files = os.listdir(path + sub_dir)\n",
    "    if (sub_dir== 'NORMAL'):\n",
    "      condition['NORMAL'] = 1\n",
    "    elif (sub_dir == 'CNV'):\n",
    "      condition['CNV'] = 1\n",
    "    elif (sub_dir == 'DME'):\n",
    "      condition['DME'] = 1\n",
    "    else:\n",
    "      condition['DRUSEN']= 1\n",
    "    for f in files:\n",
    "      df = df.append({'FILENAME': path +  sub_dir  + \"/\" + f, \n",
    "                      'NORMAL': condition['NORMAL'], \n",
    "                      'CNV': condition['CNV'],\n",
    "                      'DME': condition['DME'],\n",
    "                      'DRUSEN': condition['DRUSEN']}, ignore_index=True)\n",
    "  return df"
   ]
  },
  {
   "cell_type": "code",
   "execution_count": 5,
   "id": "ee22550c",
   "metadata": {
    "execution": {
     "iopub.execute_input": "2021-08-18T08:14:14.530352Z",
     "iopub.status.busy": "2021-08-18T08:14:14.529862Z",
     "iopub.status.idle": "2021-08-18T08:14:14.829433Z",
     "shell.execute_reply": "2021-08-18T08:14:14.828358Z",
     "shell.execute_reply.started": "2021-08-18T08:01:49.436515Z"
    },
    "papermill": {
     "duration": 0.321286,
     "end_time": "2021-08-18T08:14:14.829564",
     "exception": false,
     "start_time": "2021-08-18T08:14:14.508278",
     "status": "completed"
    },
    "tags": []
   },
   "outputs": [],
   "source": [
    "# Generting the DataFrames of the filenames\n",
    "# this is primarily used so we can sub-sample files easier for the different training strategies\n",
    "if (REGEN):\n",
    "  train_df = create_df(train_dir)\n",
    "  valid_df = create_df(valid_dir)\n",
    "  test_df = create_df(test_dir)\n",
    "  train_df.to_csv(\"train_data.csv\")\n",
    "  valid_df.to_csv(\"valid_data.csv\")\n",
    "  test_df.to_csv(\"test_data.csv\")\n",
    "else:\n",
    "  train_df = pd.read_csv(oct_csv_path + \"train_data.csv\")\n",
    "  valid_df = pd.read_csv(oct_csv_path + \"valid_data.csv\")\n",
    "  test_df = pd.read_csv(oct_csv_path + \"test_data.csv\")"
   ]
  },
  {
   "cell_type": "code",
   "execution_count": 6,
   "id": "ee35f867",
   "metadata": {
    "execution": {
     "iopub.execute_input": "2021-08-18T08:14:14.869679Z",
     "iopub.status.busy": "2021-08-18T08:14:14.868892Z",
     "iopub.status.idle": "2021-08-18T08:14:14.873271Z",
     "shell.execute_reply": "2021-08-18T08:14:14.872676Z",
     "shell.execute_reply.started": "2021-08-18T08:01:50.215786Z"
    },
    "papermill": {
     "duration": 0.026202,
     "end_time": "2021-08-18T08:14:14.873436",
     "exception": false,
     "start_time": "2021-08-18T08:14:14.847234",
     "status": "completed"
    },
    "tags": []
   },
   "outputs": [
    {
     "name": "stdout",
     "output_type": "stream",
     "text": [
      "Training Data:  (83484, 5)\n",
      "Validation Data:  (36, 5)\n",
      "Test Data:  (972, 5)\n"
     ]
    }
   ],
   "source": [
    "print (\"Training Data: \", train_df.shape)\n",
    "print (\"Validation Data: \", valid_df.shape)\n",
    "print (\"Test Data: \", test_df.shape)"
   ]
  },
  {
   "cell_type": "code",
   "execution_count": 7,
   "id": "f090b170",
   "metadata": {
    "execution": {
     "iopub.execute_input": "2021-08-18T08:14:14.917903Z",
     "iopub.status.busy": "2021-08-18T08:14:14.917074Z",
     "iopub.status.idle": "2021-08-18T08:14:14.922093Z",
     "shell.execute_reply": "2021-08-18T08:14:14.921327Z",
     "shell.execute_reply.started": "2021-08-18T08:01:52.644788Z"
    },
    "papermill": {
     "duration": 0.029771,
     "end_time": "2021-08-18T08:14:14.922210",
     "exception": false,
     "start_time": "2021-08-18T08:14:14.892439",
     "status": "completed"
    },
    "tags": []
   },
   "outputs": [
    {
     "name": "stdout",
     "output_type": "stream",
     "text": [
      "Trainig Data percentages:\n",
      " 1% ==>  834\n",
      " 5% ==>  4174\n",
      "10% ==>  8348\n",
      "25% ==>  20871\n",
      "50% ==>  41742\n",
      "75% ==>  62613\n",
      "90% ==>  75135\n",
      "98% ==>  81814\n"
     ]
    }
   ],
   "source": [
    "# Printing out the # of samples for each subsample percentage \n",
    "print (\"Trainig Data percentages:\")\n",
    "print (\" 1% ==> \", int(.01 * train_df.shape[0]))\n",
    "print (\" 5% ==> \", int(.05 * train_df.shape[0]))\n",
    "print (\"10% ==> \", int(.1  * train_df.shape[0]))\n",
    "print (\"25% ==> \", int(.25 * train_df.shape[0]))\n",
    "print (\"50% ==> \", int(.5  * train_df.shape[0]))\n",
    "print (\"75% ==> \", int(.75 * train_df.shape[0]))\n",
    "print (\"90% ==> \", int(.9  * train_df.shape[0]))\n",
    "print (\"98% ==> \", int(.98 * train_df.shape[0]))"
   ]
  },
  {
   "cell_type": "code",
   "execution_count": 8,
   "id": "cce642ae",
   "metadata": {
    "execution": {
     "iopub.execute_input": "2021-08-18T08:14:14.963515Z",
     "iopub.status.busy": "2021-08-18T08:14:14.962737Z",
     "iopub.status.idle": "2021-08-18T08:14:14.974190Z",
     "shell.execute_reply": "2021-08-18T08:14:14.973756Z",
     "shell.execute_reply.started": "2021-08-18T08:01:53.929128Z"
    },
    "papermill": {
     "duration": 0.034211,
     "end_time": "2021-08-18T08:14:14.974300",
     "exception": false,
     "start_time": "2021-08-18T08:14:14.940089",
     "status": "completed"
    },
    "tags": []
   },
   "outputs": [
    {
     "data": {
      "text/plain": [
       "(8348, 5)"
      ]
     },
     "execution_count": 8,
     "metadata": {},
     "output_type": "execute_result"
    }
   ],
   "source": [
    "# Sampling 10% of the data\n",
    "sample = train_df.sample(frac=0.1, random_state=10, axis=0)\n",
    "sample.shape"
   ]
  },
  {
   "cell_type": "code",
   "execution_count": 9,
   "id": "c522d1b4",
   "metadata": {
    "execution": {
     "iopub.execute_input": "2021-08-18T08:14:15.016682Z",
     "iopub.status.busy": "2021-08-18T08:14:15.015916Z",
     "iopub.status.idle": "2021-08-18T08:14:15.018174Z",
     "shell.execute_reply": "2021-08-18T08:14:15.018599Z",
     "shell.execute_reply.started": "2021-08-18T08:02:03.616155Z"
    },
    "papermill": {
     "duration": 0.026373,
     "end_time": "2021-08-18T08:14:15.018727",
     "exception": false,
     "start_time": "2021-08-18T08:14:14.992354",
     "status": "completed"
    },
    "tags": []
   },
   "outputs": [],
   "source": [
    "# determine class weights to feed into neural network during training\n",
    "def get_classweight(df):\n",
    "  total = df.shape[0]\n",
    "  num_norm = df['NORMAL'].sum()\n",
    "  num_cnv = df['CNV'].sum()\n",
    "  num_dme = df['DME'].sum()\n",
    "  num_drusen = df['DRUSEN'].sum()\n",
    "  norm_weight = (1/num_norm) * (total/4)\n",
    "  cnv_weight = (1/num_cnv) * (total/4)\n",
    "  dme_weight = (1/num_dme) * (total/4)\n",
    "  drusen_weight = (1/num_drusen) * (total/4)\n",
    "  class_weight = {0 : cnv_weight, 1: dme_weight,\n",
    "                  2 : drusen_weight, 3: norm_weight}\n",
    "  return class_weight"
   ]
  },
  {
   "cell_type": "code",
   "execution_count": 10,
   "id": "6f76f638",
   "metadata": {
    "execution": {
     "iopub.execute_input": "2021-08-18T08:14:15.063639Z",
     "iopub.status.busy": "2021-08-18T08:14:15.061564Z",
     "iopub.status.idle": "2021-08-18T08:14:15.066642Z",
     "shell.execute_reply": "2021-08-18T08:14:15.067345Z",
     "shell.execute_reply.started": "2021-08-18T08:02:04.448276Z"
    },
    "papermill": {
     "duration": 0.030799,
     "end_time": "2021-08-18T08:14:15.067511",
     "exception": false,
     "start_time": "2021-08-18T08:14:15.036712",
     "status": "completed"
    },
    "tags": []
   },
   "outputs": [
    {
     "data": {
      "text/plain": [
       "{0: 0.5654294229206177,\n",
       " 1: 1.8387665198237886,\n",
       " 2: 2.371590909090909,\n",
       " 3: 0.7899318697956094}"
      ]
     },
     "execution_count": 10,
     "metadata": {},
     "output_type": "execute_result"
    }
   ],
   "source": [
    "class_weight = get_classweight(sample)\n",
    "class_weight"
   ]
  },
  {
   "cell_type": "code",
   "execution_count": 11,
   "id": "e053f9c5",
   "metadata": {
    "execution": {
     "iopub.execute_input": "2021-08-18T08:14:15.108683Z",
     "iopub.status.busy": "2021-08-18T08:14:15.108163Z",
     "iopub.status.idle": "2021-08-18T08:14:19.479633Z",
     "shell.execute_reply": "2021-08-18T08:14:19.478729Z",
     "shell.execute_reply.started": "2021-08-18T08:02:07.415158Z"
    },
    "papermill": {
     "duration": 4.393907,
     "end_time": "2021-08-18T08:14:19.479772",
     "exception": false,
     "start_time": "2021-08-18T08:14:15.085865",
     "status": "completed"
    },
    "tags": []
   },
   "outputs": [],
   "source": [
    "import tensorflow as tf\n",
    "from tensorflow import keras\n",
    "import tensorflow_addons as tfa\n",
    "import tensorflow.keras.applications as app\n",
    "from tensorflow.keras.preprocessing.image import ImageDataGenerator"
   ]
  },
  {
   "cell_type": "code",
   "execution_count": 12,
   "id": "2b5d8650",
   "metadata": {
    "execution": {
     "iopub.execute_input": "2021-08-18T08:14:19.525713Z",
     "iopub.status.busy": "2021-08-18T08:14:19.524898Z",
     "iopub.status.idle": "2021-08-18T08:14:29.988459Z",
     "shell.execute_reply": "2021-08-18T08:14:29.989002Z",
     "shell.execute_reply.started": "2021-08-18T08:02:12.309187Z"
    },
    "papermill": {
     "duration": 10.49071,
     "end_time": "2021-08-18T08:14:29.989203",
     "exception": false,
     "start_time": "2021-08-18T08:14:19.498493",
     "status": "completed"
    },
    "tags": []
   },
   "outputs": [
    {
     "name": "stdout",
     "output_type": "stream",
     "text": [
      "Found 7514 validated image filenames.\n",
      "Found 834 validated image filenames.\n"
     ]
    }
   ],
   "source": [
    "train_image_datagen = ImageDataGenerator(rotation_range=90, width_shift_range=[-.1,.1], height_shift_range=[-.1,.1],\n",
    "                                         shear_range=0.25, zoom_range=0.3, horizontal_flip=True,\n",
    "                                         vertical_flip=True, rescale = 1./255., validation_split=0.1)\n",
    "\n",
    "# Setting the imgages to come from the dataframe where we specify the filenames and columns to use for \"labels\"\n",
    "train_imgs = train_image_datagen.flow_from_dataframe(sample, directory=None, x_col='FILENAME', y_col=cols, subset=\"training\",\n",
    "                                        class_mode=\"raw\", target_size=(IMG_SIZE,IMG_SIZE), batch_size=32, seed=10)\n",
    "valid_imgs = train_image_datagen.flow_from_dataframe(sample, directory=None, x_col='FILENAME', y_col=cols, subset=\"validation\",\n",
    "                                        class_mode=\"raw\", target_size=(IMG_SIZE,IMG_SIZE), batch_size=32, seed=10)"
   ]
  },
  {
   "cell_type": "code",
   "execution_count": 13,
   "id": "3a796144",
   "metadata": {
    "execution": {
     "iopub.execute_input": "2021-08-18T08:14:30.035954Z",
     "iopub.status.busy": "2021-08-18T08:14:30.035319Z",
     "iopub.status.idle": "2021-08-18T08:14:34.198350Z",
     "shell.execute_reply": "2021-08-18T08:14:34.197167Z",
     "shell.execute_reply.started": "2021-08-18T08:13:33.583503Z"
    },
    "papermill": {
     "duration": 4.18857,
     "end_time": "2021-08-18T08:14:34.198513",
     "exception": false,
     "start_time": "2021-08-18T08:14:30.009943",
     "status": "completed"
    },
    "tags": []
   },
   "outputs": [
    {
     "name": "stdout",
     "output_type": "stream",
     "text": [
      "Downloading data from https://storage.googleapis.com/tensorflow/keras-applications/xception/xception_weights_tf_dim_ordering_tf_kernels_notop.h5\n",
      "83689472/83683744 [==============================] - 1s 0us/step\n"
     ]
    }
   ],
   "source": [
    "# Creating the model based on Xception Network\n",
    "input_layer = keras.Input(shape=(IMG_SIZE, IMG_SIZE, 3))\n",
    "base_model = app.xception.Xception(include_top=False, weights=\"imagenet\", input_shape=(IMG_SIZE,IMG_SIZE,3))\n",
    "\n",
    "\n",
    "x = base_model(input_layer)\n",
    "x = keras.layers.GlobalAveragePooling2D()(x)\n",
    "output = keras.layers.Dense(4, activation=\"softmax\")(x)\n",
    "\n",
    "\n",
    "# set base_model layers trainable\n",
    "\n",
    "base_model.trainable = True\n",
    "\n",
    "set_trainable = False\n",
    "\n",
    "# set all layers to trainable\n",
    "for layer in base_model.layers:\n",
    "    if layer in base_model.layers[126:] :\n",
    "        set_trainable = True\n",
    "        layer.trainable = True\n",
    "    if set_trainable:\n",
    "        layer.trainable = True\n",
    "    else:\n",
    "        layer.trainable = False \n",
    "\n",
    "\n",
    "model = keras.Model(inputs=input_layer, outputs=output)\n"
   ]
  },
  {
   "cell_type": "code",
   "execution_count": 14,
   "id": "e5bdd4e2",
   "metadata": {
    "execution": {
     "iopub.execute_input": "2021-08-18T08:14:34.251041Z",
     "iopub.status.busy": "2021-08-18T08:14:34.250341Z",
     "iopub.status.idle": "2021-08-18T08:14:34.265191Z",
     "shell.execute_reply": "2021-08-18T08:14:34.264599Z",
     "shell.execute_reply.started": "2021-08-18T08:13:35.280049Z"
    },
    "papermill": {
     "duration": 0.044429,
     "end_time": "2021-08-18T08:14:34.265308",
     "exception": false,
     "start_time": "2021-08-18T08:14:34.220879",
     "status": "completed"
    },
    "tags": []
   },
   "outputs": [
    {
     "data": {
      "text/html": [
       "<div>\n",
       "<style scoped>\n",
       "    .dataframe tbody tr th:only-of-type {\n",
       "        vertical-align: middle;\n",
       "    }\n",
       "\n",
       "    .dataframe tbody tr th {\n",
       "        vertical-align: top;\n",
       "    }\n",
       "\n",
       "    .dataframe thead th {\n",
       "        text-align: right;\n",
       "    }\n",
       "</style>\n",
       "<table border=\"1\" class=\"dataframe\">\n",
       "  <thead>\n",
       "    <tr style=\"text-align: right;\">\n",
       "      <th></th>\n",
       "      <th>Layer Type</th>\n",
       "      <th>Layer Name</th>\n",
       "      <th>Layer Trainable</th>\n",
       "    </tr>\n",
       "  </thead>\n",
       "  <tbody>\n",
       "    <tr>\n",
       "      <th>0</th>\n",
       "      <td>&lt;tensorflow.python.keras.engine.input_layer.In...</td>\n",
       "      <td>input_2</td>\n",
       "      <td>False</td>\n",
       "    </tr>\n",
       "    <tr>\n",
       "      <th>1</th>\n",
       "      <td>&lt;tensorflow.python.keras.layers.convolutional....</td>\n",
       "      <td>block1_conv1</td>\n",
       "      <td>False</td>\n",
       "    </tr>\n",
       "    <tr>\n",
       "      <th>2</th>\n",
       "      <td>&lt;tensorflow.python.keras.layers.normalization_...</td>\n",
       "      <td>block1_conv1_bn</td>\n",
       "      <td>False</td>\n",
       "    </tr>\n",
       "    <tr>\n",
       "      <th>3</th>\n",
       "      <td>&lt;tensorflow.python.keras.layers.core.Activatio...</td>\n",
       "      <td>block1_conv1_act</td>\n",
       "      <td>False</td>\n",
       "    </tr>\n",
       "    <tr>\n",
       "      <th>4</th>\n",
       "      <td>&lt;tensorflow.python.keras.layers.convolutional....</td>\n",
       "      <td>block1_conv2</td>\n",
       "      <td>False</td>\n",
       "    </tr>\n",
       "    <tr>\n",
       "      <th>...</th>\n",
       "      <td>...</td>\n",
       "      <td>...</td>\n",
       "      <td>...</td>\n",
       "    </tr>\n",
       "    <tr>\n",
       "      <th>127</th>\n",
       "      <td>&lt;tensorflow.python.keras.layers.normalization_...</td>\n",
       "      <td>block14_sepconv1_bn</td>\n",
       "      <td>True</td>\n",
       "    </tr>\n",
       "    <tr>\n",
       "      <th>128</th>\n",
       "      <td>&lt;tensorflow.python.keras.layers.core.Activatio...</td>\n",
       "      <td>block14_sepconv1_act</td>\n",
       "      <td>True</td>\n",
       "    </tr>\n",
       "    <tr>\n",
       "      <th>129</th>\n",
       "      <td>&lt;tensorflow.python.keras.layers.convolutional....</td>\n",
       "      <td>block14_sepconv2</td>\n",
       "      <td>True</td>\n",
       "    </tr>\n",
       "    <tr>\n",
       "      <th>130</th>\n",
       "      <td>&lt;tensorflow.python.keras.layers.normalization_...</td>\n",
       "      <td>block14_sepconv2_bn</td>\n",
       "      <td>True</td>\n",
       "    </tr>\n",
       "    <tr>\n",
       "      <th>131</th>\n",
       "      <td>&lt;tensorflow.python.keras.layers.core.Activatio...</td>\n",
       "      <td>block14_sepconv2_act</td>\n",
       "      <td>True</td>\n",
       "    </tr>\n",
       "  </tbody>\n",
       "</table>\n",
       "<p>132 rows × 3 columns</p>\n",
       "</div>"
      ],
      "text/plain": [
       "                                            Layer Type            Layer Name  \\\n",
       "0    <tensorflow.python.keras.engine.input_layer.In...               input_2   \n",
       "1    <tensorflow.python.keras.layers.convolutional....          block1_conv1   \n",
       "2    <tensorflow.python.keras.layers.normalization_...       block1_conv1_bn   \n",
       "3    <tensorflow.python.keras.layers.core.Activatio...      block1_conv1_act   \n",
       "4    <tensorflow.python.keras.layers.convolutional....          block1_conv2   \n",
       "..                                                 ...                   ...   \n",
       "127  <tensorflow.python.keras.layers.normalization_...   block14_sepconv1_bn   \n",
       "128  <tensorflow.python.keras.layers.core.Activatio...  block14_sepconv1_act   \n",
       "129  <tensorflow.python.keras.layers.convolutional....      block14_sepconv2   \n",
       "130  <tensorflow.python.keras.layers.normalization_...   block14_sepconv2_bn   \n",
       "131  <tensorflow.python.keras.layers.core.Activatio...  block14_sepconv2_act   \n",
       "\n",
       "     Layer Trainable  \n",
       "0              False  \n",
       "1              False  \n",
       "2              False  \n",
       "3              False  \n",
       "4              False  \n",
       "..               ...  \n",
       "127             True  \n",
       "128             True  \n",
       "129             True  \n",
       "130             True  \n",
       "131             True  \n",
       "\n",
       "[132 rows x 3 columns]"
      ]
     },
     "execution_count": 14,
     "metadata": {},
     "output_type": "execute_result"
    }
   ],
   "source": [
    "# layer trainable status of base_model layers\n",
    "layers = [(layer, layer.name, layer.trainable) for layer in base_model.layers]\n",
    "pd.DataFrame(layers, columns=['Layer Type', 'Layer Name', 'Layer Trainable'])  "
   ]
  },
  {
   "cell_type": "code",
   "execution_count": 15,
   "id": "af943793",
   "metadata": {
    "execution": {
     "iopub.execute_input": "2021-08-18T08:14:34.327068Z",
     "iopub.status.busy": "2021-08-18T08:14:34.325572Z",
     "iopub.status.idle": "2021-08-18T08:14:34.329817Z",
     "shell.execute_reply": "2021-08-18T08:14:34.329353Z",
     "shell.execute_reply.started": "2021-08-18T08:13:35.301505Z"
    },
    "papermill": {
     "duration": 0.042156,
     "end_time": "2021-08-18T08:14:34.329934",
     "exception": false,
     "start_time": "2021-08-18T08:14:34.287778",
     "status": "completed"
    },
    "tags": []
   },
   "outputs": [
    {
     "name": "stdout",
     "output_type": "stream",
     "text": [
      "Model: \"model\"\n",
      "_________________________________________________________________\n",
      "Layer (type)                 Output Shape              Param #   \n",
      "=================================================================\n",
      "input_1 (InputLayer)         [(None, 224, 224, 3)]     0         \n",
      "_________________________________________________________________\n",
      "xception (Functional)        (None, 7, 7, 2048)        20861480  \n",
      "_________________________________________________________________\n",
      "global_average_pooling2d (Gl (None, 2048)              0         \n",
      "_________________________________________________________________\n",
      "dense (Dense)                (None, 4)                 8196      \n",
      "=================================================================\n",
      "Total params: 20,869,676\n",
      "Trainable params: 4,756,996\n",
      "Non-trainable params: 16,112,680\n",
      "_________________________________________________________________\n"
     ]
    }
   ],
   "source": [
    "model.summary()"
   ]
  },
  {
   "cell_type": "code",
   "execution_count": 16,
   "id": "cf94587f",
   "metadata": {
    "execution": {
     "iopub.execute_input": "2021-08-18T08:14:34.384836Z",
     "iopub.status.busy": "2021-08-18T08:14:34.383994Z",
     "iopub.status.idle": "2021-08-18T08:14:34.558726Z",
     "shell.execute_reply": "2021-08-18T08:14:34.558249Z",
     "shell.execute_reply.started": "2021-08-17T20:33:09.201644Z"
    },
    "papermill": {
     "duration": 0.206181,
     "end_time": "2021-08-18T08:14:34.558855",
     "exception": false,
     "start_time": "2021-08-18T08:14:34.352674",
     "status": "completed"
    },
    "tags": []
   },
   "outputs": [],
   "source": [
    "# This code did not work, it caused I/O Error 5:\n",
    "# model.compile(optimizer=keras.optimizers.Adam(learning_rate=1e-3), loss='categorical_crossentropy', metrics='accuracy')\n",
    "model.compile(optimizer=keras.optimizers.Adam(), loss='categorical_crossentropy', metrics=[tfa.metrics.F1Score(4,\"micro\"), 'accuracy'])"
   ]
  },
  {
   "cell_type": "code",
   "execution_count": 17,
   "id": "49e702d2",
   "metadata": {
    "execution": {
     "iopub.execute_input": "2021-08-18T08:14:34.609091Z",
     "iopub.status.busy": "2021-08-18T08:14:34.608282Z",
     "iopub.status.idle": "2021-08-18T08:14:34.611191Z",
     "shell.execute_reply": "2021-08-18T08:14:34.610766Z",
     "shell.execute_reply.started": "2021-08-17T08:19:51.744435Z"
    },
    "papermill": {
     "duration": 0.029606,
     "end_time": "2021-08-18T08:14:34.611297",
     "exception": false,
     "start_time": "2021-08-18T08:14:34.581691",
     "status": "completed"
    },
    "tags": []
   },
   "outputs": [],
   "source": [
    "# Creating a checkpoint to save the best model so that we can reload it once training is complete\n",
    "checkpoint_cb = keras.callbacks.ModelCheckpoint(\"oct_xception10perLayers_03.h5\", save_best_only=True)\n",
    "# Adding an an early stop callback to avoid overfitting in case the model is not improving after 5 consescutive epochs\n",
    "earlystop_cb = keras.callbacks.EarlyStopping(patience=5, restore_best_weights=True)"
   ]
  },
  {
   "cell_type": "code",
   "execution_count": 18,
   "id": "5b93e79d",
   "metadata": {
    "execution": {
     "iopub.execute_input": "2021-08-18T08:14:34.662975Z",
     "iopub.status.busy": "2021-08-18T08:14:34.662345Z",
     "iopub.status.idle": "2021-08-18T08:31:51.403876Z",
     "shell.execute_reply": "2021-08-18T08:31:51.404257Z",
     "shell.execute_reply.started": "2021-08-15T19:28:50.917286Z"
    },
    "papermill": {
     "duration": 1036.770393,
     "end_time": "2021-08-18T08:31:51.404437",
     "exception": false,
     "start_time": "2021-08-18T08:14:34.634044",
     "status": "completed"
    },
    "tags": []
   },
   "outputs": [
    {
     "name": "stdout",
     "output_type": "stream",
     "text": [
      "Epoch 1/100\n",
      "1000/1000 [==============================] - 172s 163ms/step - loss: 0.8760 - f1_score: 0.6814 - accuracy: 0.6814 - val_loss: 0.6095 - val_f1_score: 0.7566 - val_accuracy: 0.7566\n",
      "Epoch 1/100\n",
      "1000/1000 [==============================] - 123s 122ms/step - loss: 0.6673 - f1_score: 0.7695 - accuracy: 0.7695 - val_loss: 0.5401 - val_f1_score: 0.8058 - val_accuracy: 0.8058\n",
      "Epoch 1/100\n",
      "1000/1000 [==============================] - 122s 121ms/step - loss: 0.6332 - f1_score: 0.7781 - accuracy: 0.7781 - val_loss: 0.5490 - val_f1_score: 0.8034 - val_accuracy: 0.8034\n",
      "Epoch 1/100\n",
      "1000/1000 [==============================] - 122s 121ms/step - loss: 0.6044 - f1_score: 0.7873 - accuracy: 0.7873 - val_loss: 0.5890 - val_f1_score: 0.7854 - val_accuracy: 0.7854\n",
      "Epoch 1/100\n",
      "1000/1000 [==============================] - 124s 123ms/step - loss: 0.5782 - f1_score: 0.7936 - accuracy: 0.7936 - val_loss: 0.6040 - val_f1_score: 0.7650 - val_accuracy: 0.7650\n",
      "Epoch 1/100\n",
      "1000/1000 [==============================] - 122s 122ms/step - loss: 0.5708 - f1_score: 0.8014 - accuracy: 0.8014 - val_loss: 0.5035 - val_f1_score: 0.8189 - val_accuracy: 0.8189\n",
      "Epoch 1/100\n",
      "1000/1000 [==============================] - 123s 123ms/step - loss: 0.5561 - f1_score: 0.8109 - accuracy: 0.8109 - val_loss: 0.5201 - val_f1_score: 0.8058 - val_accuracy: 0.8058\n",
      "Epoch 1/100\n",
      "1000/1000 [==============================] - 122s 122ms/step - loss: 0.5228 - f1_score: 0.8183 - accuracy: 0.8183 - val_loss: 0.5754 - val_f1_score: 0.7842 - val_accuracy: 0.7842\n",
      "2min 3s ± 809 ms per loop (mean ± std. dev. of 7 runs, 1 loop each)\n"
     ]
    }
   ],
   "source": [
    "%%timeit\n",
    "history = model.fit(train_imgs,  steps_per_epoch=1000, epochs=100, verbose=1, validation_data=valid_imgs, \n",
    "                    class_weight=class_weight, callbacks=[checkpoint_cb, earlystop_cb])"
   ]
  },
  {
   "cell_type": "code",
   "execution_count": 19,
   "id": "0518d35c",
   "metadata": {
    "execution": {
     "iopub.execute_input": "2021-08-18T08:31:52.438414Z",
     "iopub.status.busy": "2021-08-18T08:31:52.437859Z",
     "iopub.status.idle": "2021-08-18T08:31:54.691715Z",
     "shell.execute_reply": "2021-08-18T08:31:54.692222Z",
     "shell.execute_reply.started": "2021-08-15T19:46:19.868963Z"
    },
    "papermill": {
     "duration": 2.777401,
     "end_time": "2021-08-18T08:31:54.692376",
     "exception": false,
     "start_time": "2021-08-18T08:31:51.914975",
     "status": "completed"
    },
    "tags": []
   },
   "outputs": [
    {
     "name": "stdout",
     "output_type": "stream",
     "text": [
      "Found 968 validated image filenames.\n"
     ]
    },
    {
     "name": "stderr",
     "output_type": "stream",
     "text": [
      "/opt/conda/lib/python3.7/site-packages/keras_preprocessing/image/dataframe_iterator.py:282: UserWarning: Found 4 invalid image filename(s) in x_col=\"FILENAME\". These filename(s) will be ignored.\n",
      "  .format(n_invalid, x_col)\n"
     ]
    }
   ],
   "source": [
    "test_image_datagen = ImageDataGenerator(rescale = 1./255.)\n",
    "\n",
    "test_imgs = test_image_datagen.flow_from_dataframe(test_df, directory=None, x_col='FILENAME', y_col=cols, validate_filenames=True,\n",
    "                                        class_mode=\"raw\", target_size=(224,224), batch_size=32)"
   ]
  },
  {
   "cell_type": "code",
   "execution_count": 20,
   "id": "03836b5e",
   "metadata": {
    "execution": {
     "iopub.execute_input": "2021-08-18T08:31:55.782793Z",
     "iopub.status.busy": "2021-08-18T08:31:55.761867Z",
     "iopub.status.idle": "2021-08-18T08:32:04.502467Z",
     "shell.execute_reply": "2021-08-18T08:32:04.503427Z",
     "shell.execute_reply.started": "2021-08-15T19:46:21.989536Z"
    },
    "papermill": {
     "duration": 9.301811,
     "end_time": "2021-08-18T08:32:04.503639",
     "exception": false,
     "start_time": "2021-08-18T08:31:55.201828",
     "status": "completed"
    },
    "tags": []
   },
   "outputs": [
    {
     "name": "stdout",
     "output_type": "stream",
     "text": [
      "31/31 [==============================] - 8s 269ms/step - loss: 0.4135 - f1_score: 0.8574 - accuracy: 0.8574\n"
     ]
    },
    {
     "data": {
      "text/plain": [
       "[0.4135001599788666, 0.8574380278587341, 0.8574380278587341]"
      ]
     },
     "execution_count": 20,
     "metadata": {},
     "output_type": "execute_result"
    }
   ],
   "source": [
    "model.load_weights(\"oct_xception10perLayers_03.h5\")\n",
    "model.evaluate(test_imgs)"
   ]
  },
  {
   "cell_type": "code",
   "execution_count": 21,
   "id": "df5ce241",
   "metadata": {
    "execution": {
     "iopub.execute_input": "2021-08-18T08:32:05.701702Z",
     "iopub.status.busy": "2021-08-18T08:32:05.700139Z",
     "iopub.status.idle": "2021-08-18T08:32:10.395867Z",
     "shell.execute_reply": "2021-08-18T08:32:10.395392Z",
     "shell.execute_reply.started": "2021-08-15T19:46:30.650218Z"
    },
    "papermill": {
     "duration": 5.258525,
     "end_time": "2021-08-18T08:32:10.396008",
     "exception": false,
     "start_time": "2021-08-18T08:32:05.137483",
     "status": "completed"
    },
    "tags": []
   },
   "outputs": [
    {
     "data": {
      "text/plain": [
       "array([[5.64487398e-01, 3.47384401e-02, 3.26600879e-01, 7.41732642e-02],\n",
       "       [3.74658499e-04, 1.24286755e-03, 6.21406697e-02, 9.36241865e-01],\n",
       "       [9.99110162e-01, 3.19303537e-04, 5.70295146e-04, 2.04125087e-07],\n",
       "       ...,\n",
       "       [1.37147576e-01, 1.95405800e-02, 8.36047232e-01, 7.26459781e-03],\n",
       "       [9.95435655e-01, 1.63627294e-04, 4.39960929e-03, 1.06059088e-06],\n",
       "       [9.58348334e-01, 1.00210635e-02, 3.06291543e-02, 1.00142171e-03]],\n",
       "      dtype=float32)"
      ]
     },
     "execution_count": 21,
     "metadata": {},
     "output_type": "execute_result"
    }
   ],
   "source": [
    "results = model.predict(test_imgs)\n",
    "results"
   ]
  },
  {
   "cell_type": "code",
   "execution_count": 22,
   "id": "20ec89f4",
   "metadata": {
    "execution": {
     "iopub.execute_input": "2021-08-18T08:32:11.533745Z",
     "iopub.status.busy": "2021-08-18T08:32:11.532985Z",
     "iopub.status.idle": "2021-08-18T08:32:12.092260Z",
     "shell.execute_reply": "2021-08-18T08:32:12.091788Z",
     "shell.execute_reply.started": "2021-08-15T19:46:35.324731Z"
    },
    "papermill": {
     "duration": 1.137581,
     "end_time": "2021-08-18T08:32:12.092409",
     "exception": false,
     "start_time": "2021-08-18T08:32:10.954828",
     "status": "completed"
    },
    "tags": []
   },
   "outputs": [],
   "source": [
    "from sklearn.metrics import classification_report, plot_confusion_matrix, confusion_matrix"
   ]
  },
  {
   "cell_type": "code",
   "execution_count": 23,
   "id": "109e4539",
   "metadata": {
    "execution": {
     "iopub.execute_input": "2021-08-18T08:32:13.208892Z",
     "iopub.status.busy": "2021-08-18T08:32:13.177601Z",
     "iopub.status.idle": "2021-08-18T08:32:13.562257Z",
     "shell.execute_reply": "2021-08-18T08:32:13.563016Z"
    },
    "papermill": {
     "duration": 0.945661,
     "end_time": "2021-08-18T08:32:13.563271",
     "exception": false,
     "start_time": "2021-08-18T08:32:12.617610",
     "status": "completed"
    },
    "tags": []
   },
   "outputs": [],
   "source": [
    "model.save(\"oct_xception10perLayers_03.h5\")"
   ]
  },
  {
   "cell_type": "code",
   "execution_count": null,
   "id": "79e58818",
   "metadata": {
    "papermill": {
     "duration": 0.527198,
     "end_time": "2021-08-18T08:32:14.616721",
     "exception": false,
     "start_time": "2021-08-18T08:32:14.089523",
     "status": "completed"
    },
    "tags": []
   },
   "outputs": [],
   "source": []
  }
 ],
 "metadata": {
  "kernelspec": {
   "display_name": "Python 3",
   "language": "python",
   "name": "python3"
  },
  "language_info": {
   "codemirror_mode": {
    "name": "ipython",
    "version": 3
   },
   "file_extension": ".py",
   "mimetype": "text/x-python",
   "name": "python",
   "nbconvert_exporter": "python",
   "pygments_lexer": "ipython3",
   "version": "3.7.10"
  },
  "papermill": {
   "default_parameters": {},
   "duration": 1090.077103,
   "end_time": "2021-08-18T08:32:17.656288",
   "environment_variables": {},
   "exception": null,
   "input_path": "__notebook__.ipynb",
   "output_path": "__notebook__.ipynb",
   "parameters": {},
   "start_time": "2021-08-18T08:14:07.579185",
   "version": "2.3.3"
  }
 },
 "nbformat": 4,
 "nbformat_minor": 5
}
