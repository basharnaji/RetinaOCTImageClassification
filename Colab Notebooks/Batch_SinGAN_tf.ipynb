{
  "nbformat": 4,
  "nbformat_minor": 0,
  "metadata": {
    "colab": {
      "name": "Batch SinGAN-tf.ipynb",
      "provenance": [],
      "collapsed_sections": []
    },
    "kernelspec": {
      "name": "python3",
      "display_name": "Python 3"
    },
    "language_info": {
      "name": "python"
    },
    "accelerator": "GPU"
  },
  "cells": [
    {
      "cell_type": "code",
      "metadata": {
        "id": "FGrUB80Ecc9X"
      },
      "source": [
        "from google.colab import drive\n",
        "import os\n",
        "import time\n",
        "import pandas as pd\n",
        "import numpy as np\n",
        "import random"
      ],
      "execution_count": 1,
      "outputs": []
    },
    {
      "cell_type": "code",
      "metadata": {
        "id": "t4qXCyFP4ps7",
        "colab": {
          "base_uri": "https://localhost:8080/"
        },
        "outputId": "76e68b4c-fb20-493e-85d5-eda039de5d99"
      },
      "source": [
        "# Mounting Google Drive Location of training images\n",
        "drive.mount('/content/drive')\n",
        "os.chdir('/content/drive/MyDrive/FourthBrain/Capstone Samsung OCT/')"
      ],
      "execution_count": 2,
      "outputs": [
        {
          "output_type": "stream",
          "text": [
            "Mounted at /content/drive\n"
          ],
          "name": "stdout"
        }
      ]
    },
    {
      "cell_type": "code",
      "metadata": {
        "id": "3GzgCdyM342V"
      },
      "source": [
        "# Setting up the variables of where the processing will occur\n",
        "sinGAN_dir = \"./sinGAN-tf/\"\n",
        "data_dir = \"./Data/OCT2017/\"\n",
        "synthetic_dir = data_dir + \"sinGAN-Data/synthetic/\"\n",
        "sinGAN_model = sinGAN_dir + \"main.py\"\n",
        "sinGAN_chkpt = sinGAN_dir + \"training_checkpoints/\"\n",
        "\n",
        "# You just need to set the class you are training for, set it to all CAPITAL\n",
        "train_class = \"CNV\"\n",
        "sinGAN_train_dir = data_dir + \"sinGAN-Data/\" + train_class\n",
        "\n",
        "#  Change this value to True only if you have new images that you want to train on, otherwise leave to FALSE\n",
        "REGEN = False"
      ],
      "execution_count": 32,
      "outputs": []
    },
    {
      "cell_type": "code",
      "metadata": {
        "id": "6zDvk7LcZFho"
      },
      "source": [
        "def create_df (path, sub_dir):\n",
        "  df = pd.DataFrame(columns=['filename', 'cnv', 'dme', 'drusen', 'normal'])\n",
        "  condition = {'normal': 0, 'cnv': 0, 'dme':0, 'drusen': 0}\n",
        "  files = os.listdir(path + sub_dir)\n",
        "  if (sub_dir == 'NORMAL'):\n",
        "    condition['normal'] = 1\n",
        "  elif (sub_dir == 'CNV'):\n",
        "    condition['cnv'] = 1\n",
        "  elif (sub_dir == 'DME'):\n",
        "    condition['dme'] = 1\n",
        "  else:\n",
        "    condition['drusen']= 1\n",
        "  for f in files:\n",
        "    df = df.append({'filename': path +  sub_dir  + \"/\" + f,  \n",
        "                    'cnv': condition['cnv'],\n",
        "                    'dme': condition['dme'],\n",
        "                    'drusen': condition['drusen'],\n",
        "                    'normal': condition['normal']}, ignore_index=True)\n",
        "  return df"
      ],
      "execution_count": 4,
      "outputs": []
    },
    {
      "cell_type": "code",
      "metadata": {
        "id": "hQR8AUDVN_Po"
      },
      "source": [
        "classes = ['NORMAL', 'CNV', 'DME', 'DRUSEN']\n",
        "cols = [x.lower() for x in classes]\n",
        "label = {0: 'CNV', 1: 'DME', 2: 'DRUSEN', 3: 'NORMAL'}\n",
        "\n",
        "if (REGEN):\n",
        "  for directory in classes:\n",
        "    train_df = create_df(data_dir + \"sinGAN-Data/\", directory)\n",
        "    train_df.set_index('filename', inplace=True)\n",
        "    train_df.to_csv(data_dir + \"sinGAN-Data/\" + directory + \"_train.csv\")\n",
        "else:\n",
        "  train_df = pd.read_csv(sinGAN_train_dir + \"_train.csv\")"
      ],
      "execution_count": 5,
      "outputs": []
    },
    {
      "cell_type": "code",
      "metadata": {
        "id": "LrkbnSOxc7AW"
      },
      "source": [
        "def train_sinGAN(filename):\n",
        "  !python $sinGAN_model train --image $filename --num_scales 8"
      ],
      "execution_count": 21,
      "outputs": []
    },
    {
      "cell_type": "code",
      "metadata": {
        "id": "V32Zmfx2nTk_"
      },
      "source": [
        "def pick_random(filename):\n",
        "  !python $sinGAN_model inference --image $filename  --dir $sinGAN_chkpt  --mode random_sample  --inject_scale 0\n",
        "  rand_num = random.sample(range(0,49),20)\n",
        "  print (rand_num)\n",
        "  for i in rand_num:\n",
        "    os.replace(\"./results/random_sample/random_sample_\" + str(i) + \".jpg\", synthetic_dir + train_class + \"/\" + str(i) + \"_\"  + os.path.basename(filename))"
      ],
      "execution_count": 47,
      "outputs": []
    },
    {
      "cell_type": "code",
      "metadata": {
        "id": "wZdrHi7h4m00",
        "colab": {
          "base_uri": "https://localhost:8080/"
        },
        "outputId": "96447697-b3cc-4b13-a1ec-2d08b03573c4"
      },
      "source": [
        "for row in train_df[\"filename\"]:\n",
        "  #train_sinGAN(row)\n",
        "  pick_random(row)\n",
        "  print (row)\n",
        "  break"
      ],
      "execution_count": 48,
      "outputs": [
        {
          "output_type": "stream",
          "text": [
            "./Data/OCT2017/sinGAN-Data/CNV/CNV-103044-193.jpeg\n",
            "2021-08-23 01:27:29.020845: I tensorflow/stream_executor/cuda/cuda_gpu_executor.cc:937] successful NUMA node read from SysFS had negative value (-1), but there must be at least one NUMA node, so returning NUMA node zero\n",
            "2021-08-23 01:27:29.029388: I tensorflow/stream_executor/cuda/cuda_gpu_executor.cc:937] successful NUMA node read from SysFS had negative value (-1), but there must be at least one NUMA node, so returning NUMA node zero\n",
            "2021-08-23 01:27:29.030052: I tensorflow/stream_executor/cuda/cuda_gpu_executor.cc:937] successful NUMA node read from SysFS had negative value (-1), but there must be at least one NUMA node, so returning NUMA node zero\n",
            "2021-08-23 01:27:29.030888: I tensorflow/core/platform/cpu_feature_guard.cc:142] This TensorFlow binary is optimized with oneAPI Deep Neural Network Library (oneDNN) to use the following CPU instructions in performance-critical operations:  AVX512F\n",
            "To enable them in other operations, rebuild TensorFlow with the appropriate compiler flags.\n",
            "2021-08-23 01:27:29.031102: I tensorflow/stream_executor/cuda/cuda_gpu_executor.cc:937] successful NUMA node read from SysFS had negative value (-1), but there must be at least one NUMA node, so returning NUMA node zero\n",
            "2021-08-23 01:27:29.031760: I tensorflow/stream_executor/cuda/cuda_gpu_executor.cc:937] successful NUMA node read from SysFS had negative value (-1), but there must be at least one NUMA node, so returning NUMA node zero\n",
            "2021-08-23 01:27:29.032325: I tensorflow/stream_executor/cuda/cuda_gpu_executor.cc:937] successful NUMA node read from SysFS had negative value (-1), but there must be at least one NUMA node, so returning NUMA node zero\n",
            "2021-08-23 01:27:29.538540: I tensorflow/stream_executor/cuda/cuda_gpu_executor.cc:937] successful NUMA node read from SysFS had negative value (-1), but there must be at least one NUMA node, so returning NUMA node zero\n",
            "2021-08-23 01:27:29.539163: I tensorflow/stream_executor/cuda/cuda_gpu_executor.cc:937] successful NUMA node read from SysFS had negative value (-1), but there must be at least one NUMA node, so returning NUMA node zero\n",
            "2021-08-23 01:27:29.539760: I tensorflow/stream_executor/cuda/cuda_gpu_executor.cc:937] successful NUMA node read from SysFS had negative value (-1), but there must be at least one NUMA node, so returning NUMA node zero\n",
            "2021-08-23 01:27:29.540267: W tensorflow/core/common_runtime/gpu/gpu_bfc_allocator.cc:39] Overriding allow_growth setting because the TF_FORCE_GPU_ALLOW_GROWTH environment variable is set. Original config value was 0.\n",
            "2021-08-23 01:27:29.540323: I tensorflow/core/common_runtime/gpu/gpu_device.cc:1510] Created device /job:localhost/replica:0/task:0/device:GPU:0 with 13839 MB memory:  -> device: 0, name: Tesla T4, pci bus id: 0000:00:04.0, compute capability: 7.5\n",
            "(1, 32, 33, 3)\n",
            "(1, 43, 44, 3)\n",
            "(1, 57, 59, 3)\n",
            "(1, 76, 79, 3)\n",
            "(1, 102, 105, 3)\n",
            "(1, 136, 140, 3)\n",
            "(1, 181, 187, 3)\n",
            "(1, 242, 250, 3)\n",
            "Directory ./results/random_sample already exists\n",
            "2021-08-23 01:27:31.495738: I tensorflow/compiler/mlir/mlir_graph_optimization_pass.cc:185] None of the MLIR Optimization Passes are enabled (registered 2)\n",
            "2021-08-23 01:27:32.276918: I tensorflow/stream_executor/cuda/cuda_dnn.cc:369] Loaded cuDNN version 8004\n",
            "[0, 32, 11, 5, 31, 7, 20, 25, 37, 3, 1, 8, 47, 4, 45, 21, 10, 42, 38, 43]\n",
            "./Data/OCT2017/sinGAN-Data/CNV/CNV-103044-193.jpeg\n"
          ],
          "name": "stdout"
        }
      ]
    },
    {
      "cell_type": "code",
      "metadata": {
        "colab": {
          "base_uri": "https://localhost:8080/",
          "height": 35
        },
        "id": "fTN-2JhpOqGk",
        "outputId": "ab8d3e08-e965-4519-f0c5-ab16c06737d6"
      },
      "source": [
        "os.getcwd()"
      ],
      "execution_count": 9,
      "outputs": [
        {
          "output_type": "execute_result",
          "data": {
            "application/vnd.google.colaboratory.intrinsic+json": {
              "type": "string"
            },
            "text/plain": [
              "'/content/drive/My Drive/FourthBrain/Capstone Samsung OCT'"
            ]
          },
          "metadata": {},
          "execution_count": 9
        }
      ]
    },
    {
      "cell_type": "code",
      "metadata": {
        "id": "JZSP2cMARO1X"
      },
      "source": [
        "os.chdir(sinGAN_dir)"
      ],
      "execution_count": 17,
      "outputs": []
    },
    {
      "cell_type": "markdown",
      "metadata": {
        "id": "TWP4GNyIBamk"
      },
      "source": [
        "dir_path = \"./images/batch/\"\n",
        "\n",
        "for f in os.listdir(dir_path):\n",
        "  file_path = dir_path + f\n",
        "  print (file_path)\n",
        "  !python main.py inference --image file_path  --dir ./training_checkpoints  --mode random_sample  --inject_scale 0"
      ]
    },
    {
      "cell_type": "code",
      "metadata": {
        "id": "BnNBfV8id1ta"
      },
      "source": [
        ""
      ],
      "execution_count": 17,
      "outputs": []
    },
    {
      "cell_type": "code",
      "metadata": {
        "colab": {
          "base_uri": "https://localhost:8080/"
        },
        "id": "oJPveAc8p2_j",
        "outputId": "62186286-be1d-4841-cf79-35b46dbe16de"
      },
      "source": [
        "!python main.py inference --image NORMAL-220042-1.jpeg  --dir ./training_checkpoints  --mode random_sample  --inject_scale 0 --num_samples 1"
      ],
      "execution_count": 18,
      "outputs": [
        {
          "output_type": "stream",
          "text": [
            "NORMAL-220042-1.jpeg\n",
            "Traceback (most recent call last):\n",
            "  File \"main.py\", line 98, in <module>\n",
            "    main()\n",
            "  File \"main.py\", line 69, in main\n",
            "    assert os.path.exists(args.image), 'Reference image not found !'\n",
            "AssertionError: Reference image not found !\n"
          ],
          "name": "stdout"
        }
      ]
    },
    {
      "cell_type": "code",
      "metadata": {
        "id": "xBLPIJAhrQfP"
      },
      "source": [
        "def infer_images (image):\n",
        "  !python main.py inference --image $image  --dir ./training_checkpoints  --mode random_sample  --inject_scale 0\n",
        "  time.sleep(5)\n",
        "  return"
      ],
      "execution_count": 19,
      "outputs": []
    },
    {
      "cell_type": "code",
      "metadata": {
        "colab": {
          "base_uri": "https://localhost:8080/"
        },
        "id": "-xo_y7Ah-s1H",
        "outputId": "0cc26666-7349-4416-9ead-4a10e60d9d92"
      },
      "source": [
        "dir_path = \"images/batch/\"\n",
        "\n",
        "for f in os.listdir(dir_path): \n",
        "  file_path = dir_path + f \n",
        "  print (file_path)\n",
        "  infer_images (file_path)\n",
        "  #assert os.path.exists(file_path), \"Hello***\"\n",
        "  break"
      ],
      "execution_count": null,
      "outputs": [
        {
          "output_type": "stream",
          "text": [
            "images/batch/CNV-6875371-1.jpeg\n"
          ],
          "name": "stdout"
        }
      ]
    },
    {
      "cell_type": "code",
      "metadata": {
        "id": "2X8dW68w_L-n"
      },
      "source": [
        "os.getcwd()"
      ],
      "execution_count": null,
      "outputs": []
    },
    {
      "cell_type": "code",
      "metadata": {
        "id": "r3EYosN3ApBd"
      },
      "source": [
        ""
      ],
      "execution_count": null,
      "outputs": []
    }
  ]
}