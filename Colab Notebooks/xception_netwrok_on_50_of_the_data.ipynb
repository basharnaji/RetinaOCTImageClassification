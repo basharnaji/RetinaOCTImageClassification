{
  "nbformat": 4,
  "nbformat_minor": 0,
  "metadata": {
    "kernelspec": {
      "language": "python",
      "display_name": "Python 3",
      "name": "python3"
    },
    "language_info": {
      "name": "python",
      "version": "3.7.10",
      "mimetype": "text/x-python",
      "codemirror_mode": {
        "name": "ipython",
        "version": 3
      },
      "pygments_lexer": "ipython3",
      "nbconvert_exporter": "python",
      "file_extension": ".py"
    },
    "colab": {
      "name": "xception-netwrok-on-50-of-the-data.ipynb",
      "provenance": []
    }
  },
  "cells": [
    {
      "cell_type": "code",
      "metadata": {
        "_uuid": "8f2839f25d086af736a60e9eeb907d3b93b6e0e5",
        "_cell_guid": "b1076dfc-b9ad-4769-8c92-a6c4dae69d19",
        "execution": {
          "iopub.status.busy": "2021-08-12T20:03:25.508187Z",
          "iopub.execute_input": "2021-08-12T20:03:25.508595Z",
          "iopub.status.idle": "2021-08-12T20:08:58.885980Z",
          "shell.execute_reply.started": "2021-08-12T20:03:25.508505Z",
          "shell.execute_reply": "2021-08-12T20:08:58.884078Z"
        },
        "trusted": true,
        "id": "pElG79hyH84D"
      },
      "source": [
        "# This Python 3 environment comes with many helpful analytics libraries installed\n",
        "# It is defined by the kaggle/python Docker image: https://github.com/kaggle/docker-python\n",
        "# For example, here's several helpful packages to load\n",
        "\n",
        "import numpy as np # linear algebra\n",
        "import pandas as pd # data processing, CSV file I/O (e.g. pd.read_csv)\n",
        "\n",
        "# Input data files are available in the read-only \"../input/\" directory\n",
        "# For example, running this (by clicking run or pressing Shift+Enter) will list all files under the input directory\n",
        "\n",
        "import os\n",
        "for dirname, _, filenames in os.walk('/kaggle/input'):\n",
        "    for filename in filenames:\n",
        "        print(os.path.join(dirname, filename))\n",
        "\n",
        "# You can write up to 20GB to the current directory (/kaggle/working/) that gets preserved as output when you create a version using \"Save & Run All\" \n",
        "# You can also write temporary files to /kaggle/temp/, but they won't be saved outside of the current session"
      ],
      "execution_count": null,
      "outputs": []
    },
    {
      "cell_type": "code",
      "metadata": {
        "execution": {
          "iopub.status.busy": "2021-08-12T20:14:47.922429Z",
          "iopub.execute_input": "2021-08-12T20:14:47.922815Z",
          "iopub.status.idle": "2021-08-12T20:14:47.926756Z",
          "shell.execute_reply.started": "2021-08-12T20:14:47.922782Z",
          "shell.execute_reply": "2021-08-12T20:14:47.925911Z"
        },
        "trusted": true,
        "id": "vLcZQ136H84H"
      },
      "source": [
        "image_path = '/kaggle/input/kermany2018/oct2017/OCT2017 '\n",
        "train_dir = image_path + \"/train/\"\n",
        "valid_dir = image_path + \"/val/\"\n",
        "test_dir = image_path + \"/test/\""
      ],
      "execution_count": null,
      "outputs": []
    },
    {
      "cell_type": "code",
      "metadata": {
        "execution": {
          "iopub.status.busy": "2021-08-12T20:16:37.931588Z",
          "iopub.execute_input": "2021-08-12T20:16:37.932092Z",
          "iopub.status.idle": "2021-08-12T20:16:37.937729Z",
          "shell.execute_reply.started": "2021-08-12T20:16:37.932058Z",
          "shell.execute_reply": "2021-08-12T20:16:37.936548Z"
        },
        "trusted": true,
        "id": "2ZXIoIrVH84H"
      },
      "source": [
        "classes = ['CNV', 'DME', 'DRUSEN', 'NORMAL']\n",
        "cols = [x.upper() for x in classes]\n",
        "dirs = [train_dir, valid_dir, test_dir]\n",
        "label = {0: 'CNV', 1: 'DME', 2: 'DRUSEN', 3: 'NORMAL'}\n",
        "\n",
        "# if we should read the directory structre, if False then use the CSV files already saved\n",
        "# Once you generate the csv files you should probably download them and re-upload into kaggle and set this to FALSE\n",
        "REGEN = False "
      ],
      "execution_count": null,
      "outputs": []
    },
    {
      "cell_type": "code",
      "metadata": {
        "execution": {
          "iopub.status.busy": "2021-08-12T20:18:30.665734Z",
          "iopub.execute_input": "2021-08-12T20:18:30.666076Z",
          "iopub.status.idle": "2021-08-12T20:18:30.673381Z",
          "shell.execute_reply.started": "2021-08-12T20:18:30.666047Z",
          "shell.execute_reply": "2021-08-12T20:18:30.672301Z"
        },
        "trusted": true,
        "id": "gMM2LQhZH84I"
      },
      "source": [
        "def create_df (path, classes=classes):\n",
        "  df = pd.DataFrame(columns=['FILENAME', 'CNV', 'DME', 'DRUSEN', 'NORMAL'])\n",
        "  for sub_dir in classes:\n",
        "    condition = {'NORMAL': 0, 'CNV': 0, 'DME':0, 'DRUSEN': 0}\n",
        "    files = os.listdir(path + sub_dir)\n",
        "    if (sub_dir== 'NORMAL'):\n",
        "      condition['NORMAL'] = 1\n",
        "    elif (sub_dir == 'CNV'):\n",
        "      condition['CNV'] = 1\n",
        "    elif (sub_dir == 'DME'):\n",
        "      condition['DME'] = 1\n",
        "    else:\n",
        "      condition['DRUSEN']= 1\n",
        "    for f in files:\n",
        "      df = df.append({'FILENAME': path +  sub_dir  + \"/\" + f, \n",
        "                      'NORMAL': condition['NORMAL'], \n",
        "                      'CNV': condition['CNV'],\n",
        "                      'DME': condition['DME'],\n",
        "                      'DRUSEN': condition['DRUSEN']}, ignore_index=True)\n",
        "  return df"
      ],
      "execution_count": null,
      "outputs": []
    },
    {
      "cell_type": "code",
      "metadata": {
        "execution": {
          "iopub.status.busy": "2021-08-12T20:19:11.394878Z",
          "iopub.execute_input": "2021-08-12T20:19:11.395358Z",
          "iopub.status.idle": "2021-08-12T20:36:36.237610Z",
          "shell.execute_reply.started": "2021-08-12T20:19:11.395311Z",
          "shell.execute_reply": "2021-08-12T20:36:36.236722Z"
        },
        "trusted": true,
        "id": "VXewN_GIH84I"
      },
      "source": [
        "# Generting the DataFrames of the filenames\n",
        "# this is primarily used so we can sub-sample files easier for the different training strategies\n",
        "if (REGEN):\n",
        "  train_df = create_df(train_dir)\n",
        "  valid_df = create_df(valid_dir)\n",
        "  test_df = create_df(test_dir)\n",
        "  train_df.to_csv(\"train_data.csv\")\n",
        "  valid_df.to_csv(\"valid_data.csv\")\n",
        "  test_df.to_csv(\"test_data.csv\")\n",
        "else:\n",
        "  train_df = pd.read_csv(\"train_data.csv\")\n",
        "  valid_df = pd.read_csv(\"valid_data.csv\")\n",
        "  test_df = pd.read_csv(\"test_data.csv\")"
      ],
      "execution_count": null,
      "outputs": []
    },
    {
      "cell_type": "code",
      "metadata": {
        "execution": {
          "iopub.status.busy": "2021-08-12T20:43:50.737837Z",
          "iopub.execute_input": "2021-08-12T20:43:50.738297Z",
          "iopub.status.idle": "2021-08-12T20:43:50.745321Z",
          "shell.execute_reply.started": "2021-08-12T20:43:50.738254Z",
          "shell.execute_reply": "2021-08-12T20:43:50.744213Z"
        },
        "trusted": true,
        "id": "48O8GEtdH84J",
        "outputId": "26b0700d-26c3-40c4-e263-9d4b5eb02500"
      },
      "source": [
        "\n",
        "print (\"Training Data: \", train_df.shape)\n",
        "print (\"Validation Data: \", valid_df.shape)\n",
        "print (\"Test Data: \", test_df.shape)"
      ],
      "execution_count": null,
      "outputs": [
        {
          "output_type": "stream",
          "text": [
            "Training Data:  (83484, 5)\n",
            "Validation Data:  (36, 5)\n",
            "Test Data:  (972, 5)\n"
          ],
          "name": "stdout"
        }
      ]
    },
    {
      "cell_type": "code",
      "metadata": {
        "execution": {
          "iopub.status.busy": "2021-08-12T20:45:01.653247Z",
          "iopub.execute_input": "2021-08-12T20:45:01.653626Z",
          "iopub.status.idle": "2021-08-12T20:45:01.663760Z",
          "shell.execute_reply.started": "2021-08-12T20:45:01.653592Z",
          "shell.execute_reply": "2021-08-12T20:45:01.662419Z"
        },
        "trusted": true,
        "id": "Kv-KoYcFH84J",
        "outputId": "f5264c68-4e3b-43db-9209-89f56465d952"
      },
      "source": [
        "# Printing out the # of samples for each subsample percentage \n",
        "print (\"Trainig Data percentages:\")\n",
        "print (\" 1% ==> \", int(.01 * train_df.shape[0]))\n",
        "print (\" 5% ==> \", int(.05 * train_df.shape[0]))\n",
        "print (\"10% ==> \", int(.1  * train_df.shape[0]))\n",
        "print (\"25% ==> \", int(.25 * train_df.shape[0]))\n",
        "print (\"50% ==> \", int(.5  * train_df.shape[0]))\n",
        "print (\"75% ==> \", int(.75 * train_df.shape[0]))\n",
        "print (\"90% ==> \", int(.9  * train_df.shape[0]))\n",
        "print (\"98% ==> \", int(.98 * train_df.shape[0]))"
      ],
      "execution_count": null,
      "outputs": [
        {
          "output_type": "stream",
          "text": [
            "Trainig Data percentages:\n",
            " 1% ==>  834\n",
            " 5% ==>  4174\n",
            "10% ==>  8348\n",
            "25% ==>  20871\n",
            "50% ==>  41742\n",
            "75% ==>  62613\n",
            "90% ==>  75135\n",
            "98% ==>  81814\n"
          ],
          "name": "stdout"
        }
      ]
    },
    {
      "cell_type": "code",
      "metadata": {
        "id": "y4ML5xJzH84K"
      },
      "source": [
        ""
      ],
      "execution_count": null,
      "outputs": []
    }
  ]
}